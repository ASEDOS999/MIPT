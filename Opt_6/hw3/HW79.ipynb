{
 "cells": [
  {
   "cell_type": "markdown",
   "metadata": {},
   "source": [
    "# Домашнее задание 7-9\n",
    "\n",
    "(прислать до 02:00 09.03.2019)\n",
    "\n",
    "Домашнее задание выполняется в этом же Jupyter Notebook'e и присылается мне в Piazza через Private Post.\n",
    "Файл с Вашим решением должен называться ```Surname_HW#```, где вместо ```Surname``` Вы пишите свою фамилию латиницей, а вместо ```#``` - номер домашнего задания. \n",
    "Решение каждой задачи необходимо поместить после её условия.\n",
    "\n",
    "Пожалуйста, пишите свои решения чётко и понятно. \n",
    "При полном запуске Вашего решения (Kernel -> Restart & Run All) все ячейки должны выполняться без ошибок. "
   ]
  },
  {
   "cell_type": "markdown",
   "metadata": {},
   "source": [
    "## Задача 1\n",
    "\n",
    "Пусть $\\varphi: \\mathbb{R} \\to \\mathbb{R}$ возрастающая и выпуклая функция. Также $f: \\mathbb{R}^n \\to \\mathbb{R}$ выпуклая, следовательно $g(x) = \\varphi(f(x))$ также выпуклая функция. Также пусть $f$ и $g$ дважды диференцируемы.\n",
    "\n",
    "- (0.4 pts) Как связаны между собой задачи минимизации $f$ и $g$?\n",
    "- (0.6 pts) Сравните градиентный метод и метод Ньютона для решения задач минимизации $f$ и $g$. Как связаны направления, получаемые каждым из методов? Как связаны методы в случае использования наискорейшего спуска для выбора шага?"
   ]
  },
  {
   "cell_type": "markdown",
   "metadata": {
    "collapsed": true
   },
   "source": [
    "## Решение задачи 1.\n",
    "\n",
    "### Пункт 1.\n",
    "\n",
    "1) Если $x^*$ дает минимум $f$, то эта же точка доставляет минимум $g$.\n",
    "\n",
    "**Доказательство:**\n",
    "\n",
    "$$\\left\\{\\forall x \\Rightarrow f(x) \\geq f(x^*)\\right\\} \\Rightarrow g(x) = \\phi(f(x)) \\geq \\phi(f(x^*)) = g(x^*)$$\n",
    "\n",
    "Вторая импликация верна в силу возрастания $\\phi$. $\\square$\n",
    "\n",
    "2) Если $x^*$ дает минимум $g$ и $\\phi$ -строго возрастающая, то эта же точка доставляет минимум $f$.\n",
    "\n",
    "**Доказательство:**\n",
    "\n",
    "Пусть $g^*:= g(x^*)$. В силу строгой монотонности $\\phi$, у нее есть обратная. Тогда мы можем определить $f^* = \\phi^{-1}(g^*)$. В силу того, что $x^*$ доставляет минимум $g$, то $f^*$ доставляет минимум $\\phi$. В силу строгого возрастания $\\phi$, $\\min_{x\\in X}f(x) = f^*$. И $x^*$ доставляет этот минимум.$\\square$\n",
    "\n",
    "3) Условие на строгое возрастание $\\phi$ в предыдущем утверждении является существенным.\n",
    "\n",
    "**Контрпример:**\n",
    "$$\\phi(x) = \\max(0, x), f(x) = x, X = [-1, 1]$$\n",
    "$$g(x) = \\max(0,x). X=[-1, 1]$$\n",
    "\n",
    "Функции удовлетворяют условию задачи: $f$ - аффинная функция, а, следовательно, и выпуклая, $\\phi$ - выпуклая, как максимум выпуклых аффинных функций, и, очевидно, немонотонно возрастающая.\n",
    "\n",
    "$$0 \\in \\arg\\min_x(g(x))$$\n",
    "$$0=f(0)> \\min_xf(x) = f(-1) = -1$$"
   ]
  },
  {
   "cell_type": "markdown",
   "metadata": {},
   "source": [
    "### Пункт 2\n",
    "\n",
    "#### Градиентный спуск\n",
    "\n",
    "Шаг GD для $f$:\n",
    "\n",
    "$$\\boxed{x_{k+1} = x_k - \\alpha_k f'(x_k)}$$\n",
    "\n",
    "Шаг GD для $g$:\n",
    "\n",
    "$$x_{k+1} = x_k - \\alpha_k g'(x_k)$$\n",
    "\n",
    "$$\\boxed{x_{k+1} = x_k - \\alpha_k \\phi'(y)|_{y = f(x_k)}f'(x_k)}$$\n",
    "\n",
    "В силу того, что $\\phi$ - возрастающая функция, ее производная в каждой точке неотрицательная. Значит, если $\\phi'(y)|_{y = f(x_k)} \\neq 0$ (для строго возрастающей функции это выполнено), направления в этих шагах коллинеарны, а коэффицент между ними - $\\phi'(y)|_{y = f(x_k)}$."
   ]
  },
  {
   "cell_type": "markdown",
   "metadata": {},
   "source": [
    "#### Наискорейший спуск\n",
    "\n",
    "Для функции $f$:\n",
    "\n",
    "$$\\alpha_k \\in \\arg\\min_\\alpha\\left[f\\left(x_k - \\alpha f'(x_k)\\right)\\right]$$\n",
    "\n",
    "Для функции $g$:\n",
    "\n",
    "$$\\alpha_k \\in \\arg\\min_\\alpha\\left[g\\left(x_k - \\alpha \\phi'(y)|_{y = f(x_k)}f'(x_k)\\right)\\right]$$\n",
    "\n",
    "Из первого пункта следует, что\n",
    "\n",
    "$$\\arg\\min_\\alpha\\left[f\\left(x_k - \\alpha f'(x_k)\\right)\\right] \\subseteq \\arg\\min_\\alpha\\left[g\\left(x_k - \\alpha \\phi'(y)|_{y = f(x_k)}f'(x_k)\\right)\\right],$$\n",
    "причем если $\\phi$ - строго возрастающая, то верно вложение в другую сторону. Значит, для функции $g$ можно брать за значение $\\alpha_k$ любое значение из $\\arg\\min_\\alpha\\left[f\\left(x_k - \\alpha f'(x_k)\\right)\\right]$. Найти данный $\\arg\\min$ может быть проще, чем найти $\\arg\\min$ для $g$."
   ]
  },
  {
   "cell_type": "markdown",
   "metadata": {},
   "source": [
    "#### Метод Ньютона\n",
    "\n",
    "Шаг метода Ньютона для $f$:\n",
    "\n",
    "$$\\boxed{x_{k+1} = x_k - \\alpha_k [f''(x_k)]^{-1}f'(x_k)}$$\n",
    "\n",
    "Шаг метода Ньютона для $g$:\n",
    "\n",
    "$$x_{k+1} = x_k - \\alpha_k [g''(x_k)]^{-1}g'(x_k)$$\n",
    "\n",
    "Найдем вторую производную $g$:\n",
    "\n",
    "$$g''(x_k) = (\\phi'(y)|_{y = f(x_k)}f'(x_k))' = \\phi'(y)|_{y = f(x_k)}f''(x_k) + \\phi''(y)|_{y = f(x_k)}f'(x_k)(f'(x_k))^\\top$$\n",
    "\n",
    "Тогда шаг Ньютона для $g$:\n",
    "\n",
    "$$\\boxed{x_{k+1} = x_k - \\alpha_k B^{-1}\\phi'(y)|_{y = f(x_k)}f'(x_k),} $$\n",
    "где $B = \\phi'(y)|_{y = f(x_k)}f''(x_k) + \\phi''(y)|_{y = f(x_k)}f'(x_k)(f'(x_k))^\\top$\n",
    "\n",
    "Заметим, что $B$ - неотрицательно определена. Сделаем следующие замечания, из которых это следует: \n",
    "* $f''(x_k)$ - неотрицательно определена в силу выпуклости $f$, \n",
    "\n",
    "* $A = f'(x_k)(f'(x_k))^\\top$ - неотрицательно определна, т.к. $\\forall y \\in \\mathbb{R}^n y^\\top A y = (y^\\top f'(x_k))((f'(x_k))^\\top y) = (y^\\top f'(x_k)) \\geq 0$\n",
    "\n",
    "* $\\phi'\\geq 0$ - в силу возрастания $\\phi$, $\\phi''$ - неотрицательно в силу выпуклости $\\phi$.\n",
    "\n",
    "Значит $B$ - неотрицательно определенная квадратичная матрица, как коническая оболочка неотрицательно определенных квадратичных матриц.\n",
    "\n",
    "Утверждение, что коническая оболочка неотрицательно определенных квадратичных матриц есть неотрицательно определенная квадратичная матрица доказывается тривиально:\n",
    "\n",
    "$$A, B \\succeq 0, \\alpha, \\beta \\geq 0 \\Rightarrow \\forall x\\, x^\\top(\\alpha A + \\beta B)x = \\alpha(x^\\top A x) + \\beta (x^\\top B x) \\geq 0$$\n",
    " \n",
    "Тогда получаем, что направления, полученные в шагах метода Ньютона для $f$ и $g$, лежат в одном полупространстве при условии, что матрицы $B$ и $f''(x_k)$ невырождены:\n",
    "\n",
    "$$\\left([g''(x_k)]^{-1}g'(x_k), [f''(x_k)]^{-1}f'(x_k)\\right) = (\\phi'(y)|_{y = f(x_k)})^2(f'(x_k))^\\top B^{-\\top}[f''(x_k)]^{-1} f'(x_k)\\geq 0,$$\n",
    "\n",
    "т.к. матрица $B^{-\\top}[f''(x_k)]^{-1}$ неотрицательно определена в силу неотрицательной определенности $B$ и $f''(x_k)$."
   ]
  },
  {
   "cell_type": "markdown",
   "metadata": {},
   "source": [
    "## Задача 2\n",
    "\n",
    "- (0.4 pts) Для задачи\n",
    "\n",
    "$$\n",
    "\\ln (e^x + e^{-x}) \\to \\min\n",
    "$$\n",
    "\n",
    "запустите метод Ньютона с постоянным шагом $\\alpha = 1$ из точки $x_0 = 1$ и $x_0 = 1.1$. Что Вы заметили и почему?\n",
    "- (0.4 pts) Что произойдёт, если использовать демпфированный метод Ньютона? Почему?\n",
    "- (0.2 pts) Постройте графики сходимости для каждой постановки эксперимента и оцените время работы каждого метода.\n",
    "При сравнении сходимости для разных условий стройте линии на одном графике и добавляйте легенду, иначе очень сложно понять, что происходит.\n",
    "Также для сравнения сходимости достаточно указывать изменение нормы градиента, чтобы не загромождать рисунок."
   ]
  },
  {
   "cell_type": "code",
   "execution_count": null,
   "metadata": {
    "collapsed": true
   },
   "outputs": [],
   "source": [
    "# Место для Вашего решения"
   ]
  },
  {
   "cell_type": "markdown",
   "metadata": {},
   "source": [
    "## Задача 3\n",
    "- (0.2 pts) Покажите, что справедлива формула Шермана-Моррисона-Вудбери\n",
    "\n",
    "$$\n",
    "(A + UV)^{-1} = A^{-1} - A^{-1} U \\left( I_k + V A^{-1} U \\right)^{-1} V A^{-1},\n",
    "$$\n",
    "где $A \\in \\mathbb{R}^{n \\times n}$, $U \\in \\mathbb{R}^{n \\times k}$ и $V \\in \\mathbb{R}^{k \\times n}$.\n",
    "\n",
    "- (0.2 pts) Покажите, что преобразование DFP даёт положительно определённую оценку для гессиана $B_{k+1}$\n",
    "- (0.4 pts) Выведите (а не покажите, что формула справедлива!) формулу для $H_k$ в методе DFP\n",
    "- Реализуйте BFGS метод и сравните его сходимость с методом Ньютона \n",
    "    - (0.3) для задачи минимизации функции Розенброка из $x_0 = (-1.2, 1)$\n",
    "    - (0.5) для задачи\n",
    "\n",
    "    $$\n",
    "    \\min_x \\log \\left( \\sum_{i=1}^m \\exp(a_i^{\\top}x + b_i)\\right).\n",
    "    $$\n",
    "\n",
    "- (0.4) Попробуйте разные условия (достаточного убывания, существенного убывания, условие кривизны) для выбора шага $\\alpha_k$ (сравните минимум два условия), всегда ли выполнялось условие $s^{\\top}_k y_k > 0$?"
   ]
  },
  {
   "cell_type": "markdown",
   "metadata": {
    "collapsed": true
   },
   "source": [
    "## Решение задачи 3\n",
    "\n",
    "### Пункт 1: формула Шермана-Моррисона-Вудбери\n",
    "\n",
    "Умножим слева:\n",
    "\n",
    "$$\\left(A^{-1} - A^{-1} U \\left( I_k + V A^{-1} U \\right)^{-1} V A^{-1}\\right)\\left(A + UV\\right) = $$\n",
    "$$ = I - A^{-1} U \\left( I_k + V A^{-1} U \\right)^{-1} V +$$\n",
    "$$ + A^{-1}UV - A^{-1} U \\left( I_k + V A^{-1} U \\right)^{-1} V A^{-1}UV =$$\n",
    "$$ = I - \\underbrace{A^{-1}U\\left( I_k + V A^{-1} U \\right)^{-1}\\left(I + V A^{-1}U\\right)V}_{=A^{-1}UV} + A^{-1}UV = I$$\n",
    "\n",
    "Умножим справа:\n",
    "\n",
    "$$\\left(A + UV\\right)\\left(A^{-1} - A^{-1} U \\left( I_k + V A^{-1} U \\right)^{-1} V A^{-1}\\right) = $$\n",
    "\n",
    "$$ = I - U \\left( I_k + V A^{-1} U \\right)^{-1} VA^{-1} +$$\n",
    "$$ + UVA^{-1} -  UV A^{-1}U \\left( I_k + V A^{-1} U \\right)^{-1} V A^{-1}=$$\n",
    "$$ = I - \\underbrace{U\\left( I_k + V A^{-1} U \\right)^{-1}\\left(I + V A^{-1}U\\right)VA^{-1}}_{=UVA^{-1}} + UVA^{-1} = I$$\n",
    "\n",
    "На этом формулу можно считать доказанной.$\\square$"
   ]
  },
  {
   "cell_type": "markdown",
   "metadata": {},
   "source": [
    "### Пункт 2: положительная определенность в DFP\n",
    "\n",
    "Из DFP:\n",
    "\n",
    "$$B_{k+1} = (I - \\rho_ky_ks_k^\\top) B_k (I - \\rho_ks_ky_k^\\top) + \\rho_ky_ky_k^\\top,$$\n",
    "\n",
    "где $\\rho_k = \\frac{1}{y_k^\\top s_k}$. \n",
    "\n",
    "Докажем положительную определенность по индукции. $B_0$ такое в силу правильной инициализации. Теперь пусть $B_k$ - положительно определенная матрица. Зафиксируем произвольный вектор $x$.\n",
    "\n",
    "$$B_{k+1} = (I - \\rho_ks_ky_k^\\top)^\\top B_k (I - \\rho_ks_ky_k^\\top) + \\rho_ky_ky_k^\\top$$\n",
    "\n",
    "$$x^\\top B_{k+1} x = c^\\top B_k c + \\rho (y_k^\\top x)^2,$$\n",
    "\n",
    "где $c = x - \\rho_k (y_k^\\top x)s_k$.\n",
    "\n",
    "По предположению индукции $B_k$ - положительно определена, тогда оба слагаемы неотрицательны. Более того, если $x$ не нулевой, то как минимум одно из слагаемых ненулевое. Действительно, если второе слагаемое нулевое, то $y_k^\\top x =0$, и тогда $c = x$. Из этого и положительной определенности  $B_k$ следует, что первое слагаемое ненулевое. Значит,по определению, $B_{k+1}$ положительно определленна."
   ]
  },
  {
   "cell_type": "markdown",
   "metadata": {},
   "source": [
    "### Пункт 3: вывод DFP\n",
    "\n",
    "$$H_{k+1} = B_{k+1}^{-1} = \\left(C^\\top B_k^{-1}C + (\\rho_ky_k y_k^\\top)\\right)^{-1},$$\n",
    "где $C = I - \\rho_k s_k y_k^\\top$.\n",
    "\n",
    "Найдем $C^{-1}$ по формуле ШМВ:\n",
    "\n",
    "$$C^{-1} = I + \\rho_k\\frac{s_k y_k^\\top}{1 - \\rho_k y_k^\\top s_k}$$\n",
    "\n",
    "$$B_{k+1}^{-1} = $$\n",
    "$$\\text{Формула Шеррона-Моррисона-Вудбери для $\\left\\{A = C^\\top B_k C, U = \\rho_k y_k, V = y_k^\\top\\right\\}$}$$\n",
    "$$= C^{-1}B_k^{-1}C^{-\\top} - \\rho_k\\frac{C^{-1}B_k^{-1}C^{-\\top} y_k y_k^\\top C^{-1}B_k^{-1}C^{-\\top}}{1 + \\rho_ky_k^\\top C^{-1}B_k^{-1}C^{-\\top}y_k} = $$\n",
    "\n",
    "$$= \\left(I + \\rho_k\\frac{s_k y_k^\\top}{1 - \\rho_ky_k^\\top s_k}\\right)H_k \\left(I + \\rho_k\\frac{y_k s_k^\\top}{1 - \\rho_k y_k^\\top s_k}\\right) - $$\n",
    "$$- \\rho_k\\frac{C^{-1}H_kC^{-\\top} y_k y_k^\\top C^{-1}H_kC^{-\\top}}{1 + \\rho_ky_k^\\top C^{-1}H_kC^{-\\top}y_k}$$"
   ]
  },
  {
   "cell_type": "markdown",
   "metadata": {},
   "source": [
    "## Задача 4 (1 pts)\n",
    "\n",
    "Предложите свой квазиньютоновский метод, реализуйте его и сравните скорость его сходимости (по времени и по итерациям) с методом Ньютона и с методом BFGS, который Вы реализовали в задаче 3. Для сравнения используйте задачу \n",
    "\n",
    "$$\n",
    "    \\min_x \\log \\left( \\sum_{i=1}^m \\exp(a_i^{\\top}x + b_i)\\right).\n",
    "$$\n",
    "\n",
    "Обоснуйте (хотя бы в общих чертах), почему Ваш метод будет работать. \n",
    "Строгого доказательства я не требую, но мотивацию, которой Вы руководствовались, пожалуйста, приведите. "
   ]
  },
  {
   "cell_type": "code",
   "execution_count": null,
   "metadata": {
    "collapsed": true
   },
   "outputs": [],
   "source": [
    "# Место для Вашего решения"
   ]
  },
  {
   "cell_type": "markdown",
   "metadata": {},
   "source": [
    "## Задача 5\n",
    "\n",
    "_1._ (0.6 pts) Реализуйте метод Левенберга-Марквардта\n",
    "\n",
    "_2._ (0.2 pts) Сгенерируйте синтетические данные для решения задачи определения местоположения по расстояниям до известных объектов. То есть, Вам надо определить текущее положение человека $x$ по известным расстояниям $\\rho_i$ до каждого из $N$ объектов с известными координатами $y_i$. Такая задача может быть записана следующим образом\n",
    "\n",
    "$$\n",
    "\\min_x \\sum_{i=1}^N (\\|x - y_i\\|^2_2 - \\rho_i)^2\n",
    "$$\n",
    "\n",
    "Является ли эта задача выпуклой и почему?"
   ]
  },
  {
   "cell_type": "code",
   "execution_count": 19,
   "metadata": {},
   "outputs": [
    {
     "data": {
      "text/plain": [
       "<matplotlib.legend.Legend at 0x11f58a828>"
      ]
     },
     "execution_count": 19,
     "metadata": {},
     "output_type": "execute_result"
    },
    {
     "data": {
      "image/png": "[encoded data removed]",
      "text/plain": [
       "<Figure size 432x288 with 1 Axes>"
      ]
     },
     "metadata": {},
     "output_type": "display_data"
    }
   ],
   "source": [
    "import numpy as np\n",
    "import matplotlib.pyplot as plt\n",
    "%matplotlib inline\n",
    "np.random.seed(42)\n",
    "# We consider objects in plane for simplicity. In 3D you can use the same approach\n",
    "n = 2\n",
    "# Number of objects\n",
    "m = 5\n",
    "# Coordinates of the objects\n",
    "y = np.random.randn(m, n)\n",
    "# Ground-truth target position\n",
    "xtrue = np.random.rand(1, n)\n",
    "# Distances between ground-truth position and known objects\n",
    "l2_distances = np.sum((y - xtrue)**2, axis=1)\n",
    "\n",
    "plt.scatter(xtrue[0, 0], xtrue[0, 1], label=\"Target position\")\n",
    "plt.scatter(y[:, 0], y[:, 1], label=\"Position of objects\")\n",
    "plt.legend()"
   ]
  },
  {
   "cell_type": "markdown",
   "metadata": {},
   "source": [
    "_3._ (0.4 pts) Покажите, что Ваша реализация работает, решив с её помощью вышепоставленную задачу с использованием сгенерированных данных. Совпадает ли найденное решение с правильным ответом, по отношению к которому генерировались расстояния?  Сравните точность решения с работой [стандартного решателя](https://docs.scipy.org/doc/scipy/reference/generated/scipy.optimize.curve_fit.html) этой задачи из ```scipy.optimize```, не забудьте явно указать, что Вы хотите решить задачу методом Левенберга-Марквардта\n",
    "\n",
    "_4._ (0.3 pts) Запустите Ваш метод для различных начальных приближений. Всегда ли метод сходится в одну и ту же точку? Почему? Нарисуйте линии уровня целевой функции с помощью функции ```plt.countourf``` или её аналогов. Пример использования можно посмотреть [тут](https://matplotlib.org/gallery/images_contours_and_fields/contourf_log.html#sphx-glr-gallery-images-contours-and-fields-contourf-log-py)\n",
    "\n",
    "_5._ (0.2 pts) Проанализируйте численно, какое минимальное количество объектов $y_i$ необходимо для восстановления координат $x$?"
   ]
  },
  {
   "cell_type": "code",
   "execution_count": null,
   "metadata": {},
   "outputs": [],
   "source": [
    "# Место для Вашего решения"
   ]
  }
 ],
 "metadata": {
  "anaconda-cloud": {},
  "kernelspec": {
   "display_name": "Python 3",
   "language": "python",
   "name": "python3"
  },
  "language_info": {
   "codemirror_mode": {
    "name": "ipython",
    "version": 3
   },
   "file_extension": ".py",
   "mimetype": "text/x-python",
   "name": "python",
   "nbconvert_exporter": "python",
   "pygments_lexer": "ipython3",
   "version": "3.7.1"
  }
 },
 "nbformat": 4,
 "nbformat_minor": 1
}
