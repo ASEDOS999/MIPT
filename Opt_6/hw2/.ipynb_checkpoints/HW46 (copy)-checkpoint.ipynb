{
 "cells": [
  {
   "cell_type": "markdown",
   "metadata": {},
   "source": [
    "# Домашнее задание 4-6\n",
    "\n",
    "(прислать до 02:00 19.03.2019)\n",
    "\n",
    "Домашнее задание выполняется в этом же Jupyter Notebook'e и присылается мне в Piazza через Private Post.\n",
    "Файл с Вашим решением должен называться ```Surname_HW#```, где вместо ```Surname``` Вы пишите свою фамилию латиницей, а вместо ```#``` - номер домашнего задания. \n",
    "Решение каждой задачи необходимо поместить после её условия.\n",
    "\n",
    "Пожалуйста, пишите свои решения чётко и понятно. \n",
    "При полном запуске Вашего решения (Kernel -> Restart & Run All) все ячейки должны выполняться без ошибок. "
   ]
  },
  {
   "cell_type": "markdown",
   "metadata": {},
   "source": [
    "## Задача 1\n",
    "В этой задаче Вам предлагается выяснить, как можно ускорить сходимость градиентного спуска.\n",
    "\n",
    "- (0.1  pts)Рассмотрите задачу минимизации дифференцируемой функции $f(x): X \\to \\mathbb{R}$ и напишите для неё шаг градиентного спуска\n",
    "\n",
    "- Пусть задано некоторое невырожденое линейное преобразование $P^{1/2}: X \\to Y$. \n",
    "Перенесём решение исходной задачи из пространства $X$ в пространство $Y$ с помощью вспомогательной функции \n",
    "\n",
    "$$\n",
    "g(y) = f(P^{-1/2}y) = f(x)\n",
    "$$\n",
    "\n",
    "- (0.3 pts) Запишите шаг градиентного спуска в переменных $y$ и найдите выражение для $g'(y)$ через переменные $x$.\n",
    "\n",
    "- (0.1 pts) Проверьте инвариантен ли градиент при линейном преобразовании?\n",
    "\n",
    "- (0.2 pts) Преобразуйте выражение для шага градиентного спуска в пространстве $Y$ так, чтобы в нём фигурировали только исходные координаты, то есть отобразите его обратно в пространство $X$\n",
    "\n",
    "- (0.5 pts) Исследуйте сходимость градиентного спуска для задачи \n",
    "\n",
    "$$\n",
    "\\min e^{x_1 + 3x_2 - 0.1} + e^{-x_1 - 0.1} + e^{x_1 - 3x_2 - 0.1},\n",
    "$$\n",
    "\n",
    "используя преобразования координат\n",
    "\n",
    "$$\n",
    "P_1 =\n",
    "\\begin{bmatrix}\n",
    "3 & 0\\\\\n",
    "0 & 10\n",
    "\\end{bmatrix}\n",
    "\\quad\n",
    "P_2 =\n",
    "\\begin{bmatrix}\n",
    "10 & 0\\\\\n",
    "0 & 3\n",
    "\\end{bmatrix}\n",
    "$$\n",
    "\n",
    "Параметры функции поиска шага и начальную точку выберите самостоятельно.\n",
    "Постройте график сходимости аналогичный тем, что были показаны на семинаре для каждого преобразования. Какое преобразование привело к ускорения сходимости и почему? Обратите внимание на оформление графика, сходимость метода измеряйте с помощью нормы градиента.\n",
    "\n",
    "- (0.3 pts) Что такое предобуславливатели (preconditioner) для систем линейных уравнений? \n",
    "Какая цель в их использовании и какие предобуславливатели Вы знаете? \n",
    "Сравните предобуславливание с приведённой выше техникой ускорения сходимости. \n",
    "Что их объединяет? "
   ]
  },
  {
   "cell_type": "markdown",
   "metadata": {},
   "source": [
    "## Решение задачи 1\n",
    "\n",
    "### Выбор шага\n",
    "$$\\textbf{x}^{k+1} = \\textbf{x}^k - \\alpha_{k+1} f'(\\textbf{x})$$\n",
    "$$\\alpha_k = \\arg\\min_{\\alpha\\in[0,+\\infty]}\\left[f(\\textbf{x}^k - \\alpha f'(\\textbf{x}^k))\\right]$$\n",
    "\n",
    "### Шаг для $g$\n",
    "\n",
    "Пусть $A = P^{-1/2}, B = A^{-1}$.\n",
    "\n",
    "$$\\textbf{y}^{k+1} = \\textbf{y}^k - \\alpha_{k+1}g'(\\textbf{y}^k)$$\n",
    "\n",
    "$$\\alpha_{k+1} = \\arg\\min_{\\alpha\\in[0,+\\infty]}\\left[g(\\textbf{y}^k - \\alpha g'(\\textbf{y}^k))\\right]$$\n",
    "\n",
    "### Градиент для $g$\n",
    "\n",
    "$$\\frac{\\partial g}{\\partial y_k} = \\frac{\\partial f(\\{\\sum\\limits_{j = 1}^{n}a_{ij}y_j,i=\\overline{1,n}\\})}{\\partial y_k} = \\sum\\limits_{j=1}^na_{jk}\\frac{\\partial f}{\\partial x_j}$$\n",
    "\n",
    "$$\\frac{\\partial g(\\textbf{y})}{\\partial \\textbf{y}} =A^\\top\\frac{\\partial f(\\textbf{x})}{\\partial \\textbf{x}},$$\n",
    "$$\\textbf{y} = B\\textbf{x}$$\n",
    "\n",
    "### Инвариантность\n",
    "\n",
    "Из выше написанного пункта становится ясно, что градиент не инвариантен относительно линейного преобразования.\n",
    "\n",
    "### Шаг для $g$ в координатах $\\textbf{x}$\n",
    "\n",
    "$$\\alpha_k = \\arg\\min_{\\alpha\\in[0,+\\infty]}\\left[g(\\textbf{y}^k - \\alpha g'(\\textbf{y}^k))\\right]=$$\n",
    "$$= \\arg\\min_{\\alpha\\in[0,+\\infty]}\\left[g(B\\textbf{x}^k - \\alpha A^\\top f'(\\textbf{x})\\right]=$$\n",
    "$$= \\arg\\min_{\\alpha\\in[0,+\\infty]}\\left[f\\left(A(B\\textbf{x}^k - \\alpha A^\\top f'(\\textbf{x})\\right)\\right]=$$\n",
    "$$= \\arg\\min_{\\alpha\\in[0,+\\infty]}\\left[f(\\textbf{x}^k - \\alpha AA^\\top f'(\\textbf{x}))\\right]=$$\n",
    "$$= \\arg\\min_{\\alpha\\in[0,+\\infty]}\\left[f(\\textbf{x}^k - \\alpha P^{-1} f'(\\textbf{x}))\\right],$$\n",
    "\n",
    "где $P = P^{1/2}(P^{1/2})^\\top$. Для симметричных матриц $P^{1 / 2}$ - обычный матричный корень $P$.\n",
    "\n",
    "В таких обозначениях шаг градиентного спуска запишется, как:\n",
    "\n",
    "$$\\textbf{x}^{k+1} = \\textbf{x}^k - \\alpha_{k+1}P^{-1}f'(\\textbf{x}^k)$$\n",
    "$$\\alpha_{k+1}= \\arg\\min_{\\alpha\\in[0,+\\infty]}\\left[f(\\textbf{x}^k - \\alpha P^{-1} f'(\\textbf{x}))\\right],$$\n",
    "\n",
    "### Сходимость"
   ]
  },
  {
   "cell_type": "code",
   "execution_count": 12,
   "metadata": {},
   "outputs": [
    {
     "data": {
      "text/plain": [
       "<matplotlib.legend.Legend at 0xa83851ec>"
      ]
     },
     "execution_count": 12,
     "metadata": {},
     "output_type": "execute_result"
    },
    {
     "data": {
      "image/png": "[encoded data removed]",
      "text/plain": [
       "<Figure size 576x432 with 1 Axes>"
      ]
     },
     "metadata": {
      "needs_background": "light"
     },
     "output_type": "display_data"
    }
   ],
   "source": [
    "import numpy as np\n",
    "from math import exp\n",
    "import cvxpy as cvx\n",
    "import matplotlib.pyplot as plt\n",
    "%matplotlib inline\n",
    "\n",
    "\n",
    "def get_step(x, h):\n",
    "    obj = lambda x: cvx.exp(x[0] + 3*x[1]- 0.1) + cvx.exp(-x[0] -0.1) + cvx.exp(x[0] - 3*x[1]- 0.1)\n",
    "    alpha = cvx.Variable(pos = True)\n",
    "    cvx.Problem(cvx.Minimize(obj(x - alpha * h))).solve()\n",
    "    return alpha.value\n",
    "\n",
    "def grad_descent(x_0, P):\n",
    "    N = 0\n",
    "    x = x_0\n",
    "    g = []\n",
    "    g.append(exp(x[0] + 3*x[1]- 0.1) - exp(-x[0] -0.1) + exp(x[0] - 3*x[1]- 0.1))\n",
    "    g.append(3* exp(x[0] + 3*x[1]- 0.1)- 3 * exp(x[0] - 3*x[1]- 0.1))\n",
    "    grad = np.array(g)\n",
    "    conv = [np.linalg.norm(grad)]\n",
    "    while N < 100 and conv[-1] > 1e-3:\n",
    "        g = []\n",
    "        g.append(exp(x[0] + 3*x[1]- 0.1) - exp(-x[0] -0.1) + exp(x[0] - 3*x[1]- 0.1))\n",
    "        g.append(3* exp(x[0] + 3*x[1]- 0.1)- 3 * exp(x[0] - 3*x[1]- 0.1))\n",
    "        grad = np.array(g)\n",
    "        h = np.dot(P, grad)\n",
    "        x = x - get_step(x, h) * h\n",
    "        conv.append(np.linalg.norm(grad))\n",
    "        N +=1\n",
    "    return conv\n",
    "\n",
    "P_list = []\n",
    "P_list.append(np.array([[10,0], [0,3]]))\n",
    "P_list.append(np.array([[1,0], [0,1]]))\n",
    "P_list.append(np.array([[3,0], [0,10]]))\n",
    "\n",
    "plt.figure(figsize=(8, 6))\n",
    "for P in P_list:\n",
    "    x_0 = [1,1]\n",
    "    array = grad_descent(x_0, np.linalg.inv(P))\n",
    "    plt.semilogy([i for i in range(len(array))], array)\n",
    "\n",
    "plt.xlabel(r\"Number of iteration, $k$\")\n",
    "plt.ylabel(r\"Norm of gradient\")\n",
    "plt.legend(['P = E', r'P = P_1', r'P = P_2'])"
   ]
  },
  {
   "cell_type": "markdown",
   "metadata": {},
   "source": [
    "Оба преобразования дали ускорения, причем преобразование $P_2$ дало большее ускорение.\n",
    "\n",
    "### Preconditioner\n",
    "\n",
    "Предобуславливание линейной системы - предварительное преобразование линейной системы, которое выполняется с целью уменьшения числа обусловленности. Примером предобуславливания является замена системы $A\\textbf{x} -\\textbf{b} = 0$ на эквивалентную $P^{-1}(A\\textbf{x} -\\textbf{b}) = 0$. Шаг итерационного метода в этом случае будет записан следующим образом:\n",
    "\n",
    "$$\\textbf{x}_{k+1} = \\textbf{x}_k - \\alpha P^{-1}(A\\textbf{x}_k -\\textbf{b})$$\n",
    "\n",
    "Как легко видеть, предобуславливание линейной системы похоже на проделанное выше преобразование формой записи шага градиентного спуска и итерации. Так же оба метода есть предварительно преобразование с целью ускорения решения."
   ]
  },
  {
   "cell_type": "markdown",
   "metadata": {},
   "source": [
    "## Задача 2\n",
    "\n",
    "- (0.2 pts) Покажите, что градиенты, полученные на двух последовательных шагах градиентного спуска с использованием правила наискорейшего спуска, ортогональны.\n",
    "\n",
    "- (0.5 pts) Докажите, что если целевая функция $f(x) = \\frac{1}{2}x^{\\top}Qx - b^{\\top}x$, $Q \\in \\mathbb{S}^n_{++}$, шаг определяется с помощью наискорейшего спуска и $x^0 - x^*$ параллелен собственному вектору матрицу $Q$, то градиентный спуск сходится за один шаг. \n",
    "\n",
    "- Покажите, что для $f(x) = x^{\\top}x$ градиентный спуск с выбором шага по правилу наискорейшего спуска сходится за одну итерацию:\n",
    "    - (0.1 pts) с использованием предыдущего утверждения\n",
    "    - (0.2 pts) прямым вычислением "
   ]
  },
  {
   "cell_type": "markdown",
   "metadata": {},
   "source": [
    "## Решение задачи 2\n",
    "\n",
    "### Доказательство ортагональности\n",
    "\n",
    "Рассмотрим функцию:\n",
    "\n",
    "$$g(\\alpha) = f(\\textbf{x}_k - \\alpha f'(\\textbf{x}_k))$$\n",
    "\n",
    "Т.к. $\\alpha_k = \\arg\\min_{\\alpha}f(\\textbf{x}_k - \\alpha f'(\\textbf{x}_k))$, то\n",
    "\n",
    "$$g'(\\alpha_k) = 0$$\n",
    "\n",
    "С другой стороны:\n",
    "\n",
    "$$g'(\\alpha_k) = \\left(f\\left(\\textbf{x}_k - \\alpha f'(\\textbf{x}_k)\\right)\\right)_\\alpha'\\Big|_{\\alpha=\\alpha_k} =  -f'(\\textbf{x}_k - \\alpha_k f'(\\textbf{x}_k))f'(\\textbf{x}_k) = -(f'(\\textbf{x}_{k+1}), f'(\\textbf{x}_k))$$\n",
    "\n",
    "Выше под произведением градиентов понимается их скалярное произведение. Из выше написанного следует, что скалярное произведение полученных на двух последовательных итерациях градиентах в наискорейшем спуске равно нулю, что равносильно ортогональности.\n",
    "\n",
    "### Про $Q$\n",
    "\n",
    "$$\\alpha = \\arg\\min_\\alpha f(\\textbf{x}_0 - \\alpha f'(\\textbf{x}_0)) $$\n",
    "\n",
    "Если мы докажем, что существует такое $\\alpha$, что $\\textbf{x}_0 - \\alpha f'(\\textbf{x}_0) = \\textbf{x}^*$, то мы докажем и требуемое утверждение. Для этого найдем такое $\\alpha$, решив уравнение\n",
    "\n",
    "$$\\textbf{x}_0 - \\alpha f'(\\textbf{x}_0) = \\textbf{x}^*$$\n",
    "$$-\\alpha (Q\\textbf{x}_0 - \\textbf{b}) = \\textbf{x}^* - \\textbf{x}_0$$\n",
    "$$\\alpha Q(\\textbf{x}^* - \\textbf{x}_0) - \\alpha(Q\\textbf{x}^*- \\textbf{b}) = \\textbf{x}^* - \\textbf{x}_0$$\n",
    "\n",
    "Второе слагаемое в левой части есть градиент в точке $\\textbf{x}^*$, который равен нулю в силу оптимальности (по условию). Тогда пользуясь этим и тем, что $\\textbf{x}^* - \\textbf{x}_0$ -собственный вектор, получаем:\n",
    "\n",
    "$$\\alpha\\lambda(\\textbf{x}^* - \\textbf{x}_0) = (\\textbf{x}^* - \\textbf{x}_0)$$\n",
    "\n",
    "Что означает, что $\\alpha = \\frac{1}{\\lambda}$ есть решение уравнения, и действительно, наискорейший спуск сойдется за одну итерацию.\n",
    "\n",
    "### Про $f(\\textbf{x}) = \\textbf{x}^\\top\\textbf{x}$\n",
    "\n",
    "Эта задача есть частный случай задачи из предыдущего пункта при $Q$, равной единичной матрице, и при нулевом векторе $\\textbf{b}$. Оптимальное решение есть $\\textbf{x}^* = \\textbf{0}$ и $\\textbf{x}^* - \\textbf{x}_0 = \\textbf{x}_0$ есть собственный вектор единичной матрицы для любого $\\textbf{x}_0$. В силу доказанного, наискорейший пуск сойдется за одну итерацию.\n",
    "\n",
    "Давайте проверим это.\n",
    "\n",
    "$$\\textbf{x}_0 = \\text{some point}$$\n",
    "$$\\alpha = \\arg\\min_\\alpha f(\\textbf{x}_0 - \\alpha f'(\\textbf{x}_0)) = \\arg\\min_\\alpha f(\\textbf{x}_0 - \\alpha \\textbf{x}_0) = \\arg\\min_\\alpha (1-\\alpha)^2\\|\\textbf{x_0}\\| = 1$$\n",
    "$$\\textbf{x}_1 = \\textbf{x}_0 - f'(\\textbf{x}_0)) = \\textbf{0} = \\textbf{x}^*$$\n",
    "\n",
    "Как видим, метод сходится за одну итерацию из любой точки."
   ]
  },
  {
   "cell_type": "markdown",
   "metadata": {},
   "source": [
    "## Задача 3\n",
    "\n",
    "- (0.6 pts) Решите задачу наискорейшим спуском\n",
    "\n",
    "$$\n",
    "\\frac{1}{2}x^{\\top}Ax - b^{\\top}x \\to \\min_x\n",
    "$$\n",
    "\n",
    "при \n",
    "\n",
    "$$\n",
    "A = \n",
    "\\begin{bmatrix}\n",
    "0.78 & −0.02 & −0.12 & −0.14\\\\\n",
    "−0.02 & 0.86 & −0.04 & 0.06 \\\\\n",
    "−0.12 & −0.04 & 0.72 & −0.08\\\\\n",
    "−0.14 & 0.06 & −0.08 & 0.74\n",
    "\\end{bmatrix}\n",
    "\\qquad\n",
    "b = \\begin{bmatrix}\n",
    "0.76\\\\\n",
    "0.08\\\\\n",
    "1.12\\\\\n",
    "0.68\n",
    "\\end{bmatrix}\n",
    "$$\n",
    "\n",
    "и начальной точкой $x^0 = 0$ с точностью по норме градиента $10^{-6}$. \n",
    "\n",
    "- (0.2 pts) Постройте график сходимости, насколько сходимость быстрая? \n",
    "- (0.2 pts) Найдите спектр матрицы $A$ (покажите, как Вы его искали) и сравните полученный график сходимости с графиком сходимости, полученным из теоретических соображений."
   ]
  },
  {
   "cell_type": "markdown",
   "metadata": {},
   "source": [
    "## Решение задачи 3\n",
    "\n",
    "### Скорость сходимости\n",
    "\n",
    "Вычислим $\\alpha_k$ явно для данной функции.\n",
    "\n",
    "$$G(\\alpha)=f(\\textbf{x} - \\alpha f'(\\textbf{x})) = f \\left(x - \\frac{\\alpha}{2}(A^\\top+A)\\textbf{x} +\\alpha \\textbf{b}\\right) =$$\n",
    "\n",
    "$$=\\left(x - \\frac{\\alpha}{2}(A^\\top+A)\\textbf{x} +\\alpha \\textbf{b}\\right)^\\top A \\left(x - \\frac{\\alpha}{2}(A^\\top+A)\\textbf{x} +\\alpha \\textbf{b}\\right) - \\textbf{b}^\\top\\left(x - \\frac{\\alpha}{2}(A^\\top+A)\\textbf{x} +\\alpha \\textbf{b}\\right)$$\n",
    "\n",
    "$$G'(\\alpha) = 0$$\n",
    "\n",
    "$$\\alpha = \\frac{\\textbf{x}^\\top A\\left(\\frac{1}{2}(A^\\top+A)\\textbf{x} - \\textbf{b}\\right) - \\textbf{b}^\\top \\left(\\frac{1}{2}(A^\\top+A)\\textbf{x} - \\textbf{b}\\right)}{\\left(\\frac{1}{2}(A^\\top+A)\\textbf{x} - \\textbf{b}\\right)^\\top A \\left(\\frac{1}{2}(A^\\top+A)\\textbf{x} - \\textbf{b}\\right)}$$"
   ]
  },
  {
   "cell_type": "code",
   "execution_count": 2,
   "metadata": {},
   "outputs": [
    {
     "name": "stdout",
     "output_type": "stream",
     "text": [
      "Показатель q =0.28\n"
     ]
    },
    {
     "data": {
      "text/plain": [
       "Text(0, 0.5, 'Norm of gradient')"
      ]
     },
     "execution_count": 2,
     "metadata": {},
     "output_type": "execute_result"
    },
    {
     "data": {
      "image/png": "[encoded data removed]",
      "text/plain": [
       "<Figure size 576x432 with 1 Axes>"
      ]
     },
     "metadata": {
      "needs_background": "light"
     },
     "output_type": "display_data"
    }
   ],
   "source": [
    "import numpy as np\n",
    "import matplotlib.pyplot as plt\n",
    "%matplotlib inline\n",
    "\n",
    "\n",
    "class QF:\n",
    "    def __init__(self, A, b):\n",
    "        self.A = A\n",
    "        self.b = b\n",
    "    \n",
    "    def calc(self, x):\n",
    "        return 1./2 * x.dot(self.A.dot(x)) - self.b.dot(x)\n",
    "    \n",
    "    def grad(self, x):\n",
    "        return (self.A+self.A.T).dot(x) *  1./ 2 - self.b\n",
    "    \n",
    "    def argmin(self, x):\n",
    "        A = self.A\n",
    "        b = self.b\n",
    "        alpha = ((x.dot(A.dot((1./2 * (A + A.T).dot(x) - b)))+\n",
    "                   b.dot(-1./2 * (A + A.T).dot(x) + b))/\n",
    "                  ((1./2 * (A + A.T).dot(x) - b).dot(A.dot((1./2 * (A + A.T).dot(x) - b)))))\n",
    "        return alpha\n",
    "\n",
    "def grad_descent(f, x_0, eps):\n",
    "    N = 0\n",
    "    x = x_0\n",
    "    array = []\n",
    "    while N < 100 and np.linalg.norm(f.grad(x)) > eps:\n",
    "        x = x - f.argmin(x) * f.grad(x)\n",
    "        array.append(np.linalg.norm(f.grad(x)))\n",
    "        N +=1\n",
    "    return array\n",
    "\n",
    "plt.figure(figsize=(8, 6))\n",
    "\n",
    "A = np.array([[0.78, -0.02, -0.12, -0.14],\n",
    "[-0.02, 0.86, -0.04, 0.06],\n",
    "[-0.12, -0.04, 0.72, -0.08],\n",
    "[-0.14, 0.06, -0.08, 0.74]])\n",
    "b = np.array([0.76, 0.08, 1.12, 0.68])\n",
    "x_0 = np.zeros((4,))\n",
    "x_0[0] = 1\n",
    "f = QF(A, b)\n",
    "array = grad_descent(f, x_0, 1e-6)\n",
    "plt.semilogy([i for i in range(len(array))], array)\n",
    "print('Показатель q =%.2f'%(np.mean([array[i+1]/array[i] for i in range(len(array)-1)])))\n",
    "plt.xlabel(r\"Number of iteration, $k$\")\n",
    "plt.ylabel(r\"Norm of gradient\")"
   ]
  },
  {
   "cell_type": "markdown",
   "metadata": {},
   "source": [
    "Из графика видно, что скорость сходимости по норме градиента линейная линейная с показателем $q\\approx 0.3$.\n",
    "\n",
    "Есть результаты, утверждающие, что в общем случае скорость сходимости наискорейшего спуска не лучше скорости сходимости градиентного спуска с оптимальным шагом, т.е. линейная с показателем $q = \\frac{M-1}{M+1},$ где $M = \\frac{L}{\\mu}$. В нашем случае, $M = \\frac{\\max_i|\\lambda_i(A)|}{\\min_i|\\lambda_i(A)|}$. Исследуем спектр матрицы $A$ для получения теоретической оценки скорости сходимости.\n",
    "\n",
    "Как известно, отыскать спектр матрицы $A$ эквивалентно задаче нахождения ортогональной матрицы $T$, такой что\n",
    "\n",
    "$$\\Lambda = T^\\top AT,$$\n",
    "где $\\Lambda$ - диагональная матрица. Очевидно, данное преобразование минимизирует сумму квадратов внедиагональных элементов. Решение этой задачи оптимизации, соответственно, даст решение исходной. Для решения задачи поиска спектра воспользуемся готовой реализацией в пакете numpy.linalg."
   ]
  },
  {
   "cell_type": "code",
   "execution_count": 3,
   "metadata": {},
   "outputs": [
    {
     "name": "stdout",
     "output_type": "stream",
     "text": [
      "Spectrum = [0.52 0.94 0.88 0.76] \n",
      "lambda_max = 0.94\n",
      "lambda_min = 0.52\n",
      "M = 1.81\n",
      "q = 0.3\n"
     ]
    }
   ],
   "source": [
    "S = np.linalg.eig(A)[0]\n",
    "l_max = max([abs(i) for i in S])\n",
    "l_min = min([abs(i) for i in S])\n",
    "M = l_max/ l_min\n",
    "q = (M - 1) / (M + 1)\n",
    "print('Spectrum =', S, '\\nlambda_max = %.2f\\nlambda_min = %.2f\\nM = %.2f\\nq = %.1f'%(l_max, l_min, M, q))"
   ]
  },
  {
   "cell_type": "markdown",
   "metadata": {},
   "source": [
    "Как можно легко видеть, скорость сходимости полученная на практике совпала с теоретической."
   ]
  },
  {
   "cell_type": "markdown",
   "metadata": {},
   "source": [
    "## Задача 4 (1 pts)\n",
    "\n",
    "Упражнение 1.3 из [пособия лектора](https://arxiv.org/ftp/arxiv/papers/1711/1711.00394.pdf). Пожалуйста, пишите чёткие обоснования для каждого перехода в доказательстве."
   ]
  },
  {
   "cell_type": "markdown",
   "metadata": {},
   "source": [
    "## Решение задачи 2\n",
    "\n",
    "### Доказательство пункта 1.\n",
    "\n",
    "Далее для упрощения записи будем считать, что $F$ есть функция $F_{2N+1}$ из условия.\n",
    "\n",
    "1) Найдем выражение для градиента.\n",
    "\n",
    "$$\\nabla F(\\textbf{x}) = \\frac{L}{4}\\left(x_1 - 1 + (x_1 - x_2)\\dots(x_m - x_{m-1}) + (x_m - x_{m+3})\\dots (x_{2N+1} - x_{2n}) + x_{2N+1}, 0,\\dots 0\\right)^\\top,$$\n",
    "где $m = \\overline{2, 2N}$.\n",
    "\n",
    "2) Стартуя из точки $\\textbf{x}_0 = \\textbf{0}$ точка $\\textbf{x}_k$ может иметь не более чем $k$ ненулевых элементов, причем эти элементы находятся в начале. Докажем это утверждение по индукции.\n",
    "\n",
    "База индукции. $\\textbf{x}_1 = \\alpha\\nabla F(\\textbf{x}_0)$. Градиент $\\nabla F(\\textbf{x}_0)$ в точке $\\textbf{0}$ имеет только одну ненулевую первую компоненту, а, значит, и $\\textbf{x}_1$ имеет только одну ненулевую компоненту.\n",
    "\n",
    "Пусть утверждение верно для всеx $\\textbf{x}_m, m\\leq k$. Тогда $\\nabla F(\\textbf{x}_m)$ имеет не более $m+1$ ненулевой компоненты, т.к. для более старшие компоненты выражаются через линейные функции от $\\{\\textbf{x}\\}_{m+1}^n$, которые равны нулю. Тогда в силу выбора модели и  $\\textbf{x}_{k+1}$ имеет только $k+1$ ненулевую комопненту.\n",
    "\n",
    "3) найдем значения $\\min\\limits_{k=\\overline{1,N}}F(\\textbf{x}_k)$ и  $F(\\textbf{x}^*)$\n",
    "\n",
    "$$F(\\textbf{x}^*) = \\frac{L}{8}\\left(\\left[\\left(\\frac{2N+1}{2N+2}\\right)^2 + \\frac{2N}{(2N+2)^2} + \\frac{1}{(2N+2)^2}\\right] - \\frac{4N + 2}{2N+2}\\right)=$$\n",
    "\n",
    "$$ = \\frac{L}{8}\\frac{-4N^2 -6N - 2}{(2N+2)^2}$$\n",
    "\n",
    "$$\\min\\limits_{k=\\overline{1,N}}F(\\textbf{x}_k) = \\min\\limits_{\\textbf{x}|x_i =0,\\forall i > N}F(\\textbf{x})=$$\n",
    "\n",
    "$$= \\min\\limits_{x_m, m = \\overline{1, N}}\\frac{L}{8}\\left(x_1^2 + \\sum\\limits_{m = 1}^{N-1}(x_i - x_{i+1}^2) - 2x_1 + x_N^2\\right)$$\n",
    "\n",
    "Выше написанный минимум достигается, когда все $\\textbf{x}$ определяется так же как $\\textbf{x}^*$ в исходной задаче, только вместо $2N+1$ будет $N$, т.е. при\n",
    "$$\\textbf{x} = \\left(1 - \\frac{1}{N+1}, 1 - \\frac{2}{N+1} \\dots 1 - \\frac{N}{N+1},0\\dots 0\\right)^\\top$$\n",
    "\n",
    "В таком случае, получаем:\n",
    "\n",
    "$$\\min\\limits_{k=\\overline{1,N}}F(\\textbf{x}_k) = \\frac{L}{8}\\left(\\left[\\left(\\frac{N}{N+1}\\right)^2 + \\frac{N - 1}{(N+1)^2} + \\frac{1}{(N+1)^2}\\right] - \\frac{2N}{N+1}\\right)=$$\n",
    "$$=\\frac{L}{8}\\frac{-N^2 - N}{(N+1)^2}$$\n",
    "\n",
    "4) Пользуясь выше написанными утверждениями, получаем:\n",
    "\n",
    "$$\\min\\limits_{k=\\overline{1,N}}F(\\textbf{x}_k) - F(\\textbf{x}^*) = $$\n",
    "\n",
    "$$ = \\frac{L}{8}\\frac{-N^2 - N}{(N+1)^2} + \\frac{L}{8}\\frac{4N^2 +6N +2}{(2N+2)^2} = $$\n",
    "\n",
    "$$=\\frac{L}{32} \\frac{2N + 2}{(N+1)^2}$$\n",
    "\n",
    "Заметим, что\n",
    "\n",
    "$$\\|\\textbf{x}_0 - \\textbf{x}^*\\| = \\|\\textbf{x}^*\\|=\\sum\\limits_{m=1}^{2N+1}\\left(1 - \\frac{m}{2N+2}\\right)^2 = $$\n",
    "$$= \\frac{\\sum\\limits_{m=1}^{2N+1}m^2 }{(2N + 2)^2} = $$\n",
    "$$=\\frac{(2N+1)(2N+2)(4N+3)}{6(2N+2)^2} = $$\n",
    "$$=\\frac{(2N+1)(4N+3)}{6(2N+2)}=$$\n",
    "$$=\\frac{1}{3}\\left(2N+1+\\frac{1}{2N+2}\\right) \\leq \\frac{2N+2}{3}$$\n",
    "\n",
    "Используя выше доказанные факты, получим требуемое утверждение:\n",
    "\n",
    "$$\\boxed{\\min\\limits_{k=\\overline{1,N}}F(\\textbf{x}_k) - F(\\textbf{x}^*) \\geq \\frac{3L}{32}\\frac{\\|\\textbf{x}_0-\\textbf{x}^*\\|}{(N+1)^2}}$$\n",
    "\n",
    "5) Докажем утверждения для аргумента, используя то, что у $\\textbf{x}_k$ может быть не больше $k$ ненулевых компонент, и то, что мы рассматриваем $k\\geq N$.\n",
    "\n",
    "$$\\|\\textbf{x}_k - \\textbf{x}^*\\| \\geq \\sum\\limits_{m = N+1}^{2N+1}\\left(1 - \\frac{m}{2N+2}\\right)^2=$$\n",
    "$$= \\frac{\\sum\\limits_{m = 1}^{N+1}m^2}{(2N+2)^2} = \\frac{(N+1)(N+2)(2N+3)}{6(2N+2)^2} = \\frac{(N+2)(2N+3)}{24(N+1)}\\geq$$\n",
    "$$\\geq\\frac{1}{8}\\frac{2N+2}{3}\\geq \\frac{1}{8}\\|\\textbf{x}_0-\\textbf{x}^*\\|$$"
   ]
  },
  {
   "cell_type": "markdown",
   "metadata": {},
   "source": [
    "### Доказательство пункта 2\n",
    "\n",
    "..."
   ]
  },
  {
   "cell_type": "markdown",
   "metadata": {},
   "source": [
    "## Задача 5 (0.5 pts)\n",
    "\n",
    "Покажите, что сопряжённые направления являются линейно независимыми"
   ]
  },
  {
   "cell_type": "markdown",
   "metadata": {},
   "source": [
    "## Решение задачи 5\n",
    "\n",
    "Докажем линейную независимость сопряженных направлений от противного.\n",
    "\n",
    "Пусть у нас есть два сопряженных направления $\\textbf{p}$ и $\\textbf{q}$ относительно матрицы $A\\in\\mathbb{S}^n_{++}$, а так же есть два ненунлевых числа $\\alpha, \\beta$, таких что\n",
    "\n",
    "$$\\alpha\\textbf{p}+\\beta\\textbf{q}=0$$\n",
    "\n",
    "Тогда умножив это равенство на $A\\textbf{p}$ слева, получим что в силу сопряженности направления $\\beta\\textbf{q}^\\top A\\textbf{p}$, и в силу положительной определенности матрицы $\\textbf{p}^\\top A\\textbf{p} > 0$ ($\\textbf{p}$ - не нулевой). Из чего получим, что $\\alpha = 0$. А в силу того, что и $\\textbf{q}\\neq 0$, получаем, что $\\beta = 0$. Значит, мы получили противоречие, на чем доказательство можно считать законченным."
   ]
  },
  {
   "cell_type": "markdown",
   "metadata": {},
   "source": [
    "## Задача 6\n",
    "\n",
    "- (0.3 pts) Проверьте, что направления в методе сопряжённых градиентов для квадратичной целевой функции и в методе Флетчера-Ривса являются направлениями убывания. Для любой ли стратегии линейного поиска шага в методе Флетчера-Ривса полученное направление будет направлением убывания? Почему?\n",
    "\n",
    "- (0.7 pts) Даёт ли процедура дробления шага шаг, удовлестворяющий условию Вольфа? Если нет, то почему и как её нужно модифицировать, чтобы найти шаг, удовлетворяющий условию Вольфа? Покажите экспериментально, что предложенная Вами процедура работает."
   ]
  },
  {
   "cell_type": "code",
   "execution_count": 4,
   "metadata": {},
   "outputs": [],
   "source": [
    "# Место для Вашего решения"
   ]
  },
  {
   "cell_type": "markdown",
   "metadata": {},
   "source": [
    "## Задача 7 (1 pts)\n",
    "\n",
    "Исследуйте зависимость числа итераций необходимого для сходимости линейного метода сопряжённых градиентов от распределения собственных значений матрицы $A$. \n",
    "Рассмотрите следующие сценарии:\n",
    "\n",
    "- собственные значения распределены равномерно на некотором отрезке\n",
    "- собственные числа распределены блоками около некоторых заданных чисел в окрестности радиуса $\\varepsilon$, например каждые 5 собственных значений находятся в окрестности радиуса $0.5$ около чисел кратных 5. Придумайте свою стратегию генерации матриц по заданному сценарию\n",
    "\n",
    "Постройте соответствующий график для каждого сценария. Если сценарий зависит от параметра, то на одном графике изобразите зависимость для нескольких наиболее характерных параметров, добавьте легенду и сделайте вывод об устойчивости оценки сходимости метода сопряжённых градиентов относительно распределение спектра матрицы.\n",
    "\n",
    "## Решение задачи 7"
   ]
  },
  {
   "cell_type": "code",
   "execution_count": 5,
   "metadata": {},
   "outputs": [
    {
     "data": {
      "text/plain": [
       "Text(0, 0.5, \"Function's value\")"
      ]
     },
     "execution_count": 5,
     "metadata": {},
     "output_type": "execute_result"
    },
    {
     "data": {
      "image/png": "[encoded data removed]",
      "text/plain": [
       "<Figure size 432x288 with 1 Axes>"
      ]
     },
     "metadata": {
      "needs_background": "light"
     },
     "output_type": "display_data"
    }
   ],
   "source": [
    "import numpy as np\n",
    "import random\n",
    "class rand_matrix:\n",
    "    def __init__(self, n):\n",
    "        self.n = n\n",
    "    R = 100\n",
    "    m = 1\n",
    "\n",
    "    def get_diag_uniform(self):\n",
    "        L = np.random.uniform(0, self.R, self.n)\n",
    "        return np.diag(L)\n",
    "    \n",
    "    def get_diag_blocks(self, eps):\n",
    "        m = self.m\n",
    "        num = int(self.n  / m) + 1\n",
    "        centers = np.random.uniform(0 + eps, self.R - eps, int(self.n  / m) + 1)\n",
    "        arr = []\n",
    "        for i in range(int(self.n  / m)+1):\n",
    "            arr.append(np.random.uniform(centers[i] - eps, centers[i] +eps, m))\n",
    "        list_eig = [np.array(arr).reshape((len(arr) * m))[i] for i in range(self.n)]\n",
    "        list_eig = sorted(list_eig, key=lambda *args: random.random())\n",
    "        return np.diag(np.array(list_eig))\n",
    "    \n",
    "    def transform(self, A):\n",
    "        B = np.random.uniform(-self.R, self.R, (self.n, self.n))\n",
    "        Q = np.linalg.qr(B)[0]\n",
    "        return (Q.T).dot(A.dot(Q))\n",
    "    \n",
    "    def generator(self, args):\n",
    "        if args[0] == 'u':\n",
    "            A = self.get_diag_uniform()\n",
    "        if args[0] == 'blocks':\n",
    "            self.m = args[1]\n",
    "            A = self.get_diag_blocks(args[2])\n",
    "        return self.transform(A)\n",
    "\n",
    "def ConjugateDirections(x_0, A, b):\n",
    "    x = x_0\n",
    "    p = np.linalg.eig(A)[1]\n",
    "    if min(np.linalg.eig(A)[0]) < 0:\n",
    "        print('err')\n",
    "    r = A.dot(x) - b\n",
    "    arr = []\n",
    "    arr.append(x.dot(A.dot(x)) - b.dot(x))\n",
    "    for i in range(len(p)):\n",
    "        alpha = - (r.dot(p[i])) / (p[i].dot(A.dot(p[i])))\n",
    "        x = x + alpha * p[i]\n",
    "        r = A.dot(x) - b\n",
    "        arr.append(x.dot(A.dot(x)) - b.dot(x))\n",
    "    return arr\n",
    "\n",
    "def conj_grad(A):\n",
    "    return []\n",
    "    \n",
    "gen = rand_matrix(100)\n",
    "A = gen.generator(['u'])\n",
    "A_blocks = [(gen.generator(['blocks', i, 1e-1]), i) for i in [5, 50, 80, 100]]\n",
    "\n",
    "b = np.random.uniform(-10, 10, 100)\n",
    "x_0 = np.random.uniform(-1, 1, 100)\n",
    "results = []\n",
    "res = ConjugateDirections(x_0, A, b)\n",
    "plt.semilogy([i for i in range(len(res))], res)\n",
    "k = 0\n",
    "for i in A_blocks:\n",
    "    res = ConjugateDirections(x_0, i[0], b)\n",
    "    plt.semilogy([i for i in range(len(res))],res)\n",
    "    k += 1\n",
    "    \n",
    "plt.legend(['Uniform', 'Blocks with 5 elements', 'Blocks with 50 elements', \n",
    "            'Blocks with 80 elements', 'Blocks with 100 elements'])\n",
    "plt.ylabel(\"Function's value\")"
   ]
  },
  {
   "cell_type": "markdown",
   "metadata": {},
   "source": [
    "Из выше построенного графика можно сделать вывод, что скорость метода сопряженных градиентов достаточно устойчива относительно вида спектра матрицы."
   ]
  },
  {
   "cell_type": "markdown",
   "metadata": {},
   "source": [
    "## Задача 8 (1 pts)\n",
    "\n",
    "Сравните сходимость градиентного спуска, метода сопряжённых градиентов, метода тяжёлого шарика и ускоренного метода Нестерова для задачи\n",
    "\n",
    "$$\n",
    "\\min_x \\log \\left( \\sum_{i=1}^m \\exp(a_i^{\\top}x + b_i)\\right)\n",
    "$$\n",
    "\n",
    "Матрицу $A \\in \\mathbb{R}^{m \\times n}$ и вектор $b$ сгенерируйте случайным образом, рассмотрите различные значения $m$ и $n$. \n",
    "Какой способ выбора шага для каждого из методов дал наилучшую сходимость? \n",
    "Обратите внимание на то, как устойчиво вычислить значения целевой функции."
   ]
  },
  {
   "cell_type": "markdown",
   "metadata": {},
   "source": [
    "## Решение задачи 8"
   ]
  },
  {
   "cell_type": "code",
   "execution_count": 73,
   "metadata": {},
   "outputs": [],
   "source": [
    "import math\n",
    "import numpy as np\n",
    "np.random.seed(2)\n",
    "class research:\n",
    "    eps = 1e-5\n",
    "    param = 'argmin'\n",
    "    def __init__(self, A, b, x0):\n",
    "        self.A = A\n",
    "        self.b = b\n",
    "        self.x0 = x0\n",
    "        self.alpha = lambda f:self.gss(f, [0, 10000])\n",
    "        \n",
    "    def gss(self, f, segm, tol=1e-3):\n",
    "        a, b = segm\n",
    "        gr = (math.sqrt(5) + 1) / 2\n",
    "        c = b - (b - a) / gr\n",
    "        d = a + (b - a) / gr \n",
    "        f_c, f_d = f(c), f(d)\n",
    "        while abs(c - d) > tol:\n",
    "            if f(c) < f(d):\n",
    "                b = d\n",
    "                d, f_d = c, f_c\n",
    "                c = b - (b- a) / gr\n",
    "                f_c = f(c)\n",
    "            else:\n",
    "                a = c\n",
    "                c, f_c = d, f_d\n",
    "                d = a + (b - a) / gr\n",
    "                f_d = f(d)\n",
    "        return (b + a) / 2\n",
    "\n",
    "    def calc(self, x):\n",
    "        A, b = self.A, self.b\n",
    "        lg = 0\n",
    "        for i in range(A.shape[0]):\n",
    "            a = A[i, :]\n",
    "            lg += math.exp(a.dot(x) + b[i])\n",
    "        return math.log(lg) \n",
    "\n",
    "    def grad(self, x):\n",
    "        A, b = self.A, self.b\n",
    "        s, lg = np.zeros((A.shape[1])), 0\n",
    "        for i in range(A.shape[0]):\n",
    "            a = A[i, :]\n",
    "            s += a * math.exp(a.dot(x) + b[i])\n",
    "            lg += math.exp(a.dot(x) + b[i])\n",
    "        return (0.1 * s / (lg) / math.sqrt(np.linalg.norm(s / lg)), np.linalg.norm(s / lg))\n",
    "        \n",
    "    def get_alpha(self, x, p):\n",
    "        if self.param == 'argmin':\n",
    "            return self.gss(lambda alpha: self.calc(x - alpha * p), [0, 1])\n",
    "        if self.param == 'small_const':\n",
    "            return 0.01\n",
    "        if self.param == 'big_const':\n",
    "            return 0.9\n",
    "        return 0\n",
    "    def grad_descent(self):\n",
    "        N = 0\n",
    "        x = self.x0\n",
    "        array = []\n",
    "        array.append(self.grad(x)[1])\n",
    "        while N < 100 and self.grad(x)[1] > self.eps:\n",
    "            alpha = self.get_alpha(x, self.grad(x)[0])\n",
    "            x = x - alpha * self.grad(x)[0]\n",
    "            array.append(self.grad(x)[1])\n",
    "            N +=1\n",
    "        return array\n",
    "    \n",
    "    def ConjugateGradientFR(self):\n",
    "        x = self.x0\n",
    "        gradf = lambda x: self.grad(x)[0]\n",
    "        grad = gradf(x)\n",
    "        p = -grad\n",
    "        N = 0\n",
    "        array = []\n",
    "        array.append(self.grad(x)[1])\n",
    "        while self.grad(x)[1] > self.eps and N < 100:\n",
    "            N += 1\n",
    "            alpha = self.get_alpha(x, p)\n",
    "            x = x + alpha * p\n",
    "            grad_next = gradf(x)\n",
    "            beta = grad_next.dot(grad_next) / grad.dot(grad)\n",
    "            p = -grad_next + beta * p\n",
    "            grad = grad_next\n",
    "            array.append(self.grad(x)[1])\n",
    "        return array\n",
    "    \n",
    "    def get_beta(self):\n",
    "        return 0.9\n",
    "    \n",
    "    def heavy_ball(self):\n",
    "        N = 0\n",
    "        x = self.x0\n",
    "        x_prev = self.x0\n",
    "        array = []\n",
    "        array.append(self.grad(x)[1])\n",
    "        beta = self.get_beta()\n",
    "        while N < 100 and self.grad(x)[1] > self.eps:\n",
    "            alpha = self.get_alpha(x, self.grad(x)[0])\n",
    "            x, x_prev = x - alpha * self.grad(x)[0] + beta * (x - x_prev), x\n",
    "            array.append(self.grad(x)[1])\n",
    "            N +=1\n",
    "        return array\n",
    "    \n",
    "    def Nesterov(self):\n",
    "        N = 0\n",
    "        x = self.x0\n",
    "        y = self.x0\n",
    "        x_prev = self.x0\n",
    "        array = []\n",
    "        array.append(self.grad(x)[1])\n",
    "        k = 0\n",
    "        while N < 100 and self.grad(x)[1] > self.eps:\n",
    "            N +=1\n",
    "            x_prev = x\n",
    "            alpha = self.get_alpha(x, self.grad(y)[0])\n",
    "            x = y - alpha * self.grad(y)[0]\n",
    "            y = x + N / (N + 3) * (x - x_prev)\n",
    "            array.append(self.grad(x)[1])\n",
    "        return array\n",
    "    \n",
    "    def get_all(self):\n",
    "        res = [(self.grad_descent(), 'GD'), (self.ConjugateGradientFR(), 'CG_FR')]\n",
    "        res = res + [(self.heavy_ball(), 'heavy_ball'), (self.Nesterov(), 'Nesterov')]\n",
    "        return res\n"
   ]
  },
  {
   "cell_type": "markdown",
   "metadata": {},
   "source": [
    "### Константный шаг ищется как локальный минимум в направлении убывания"
   ]
  },
  {
   "cell_type": "code",
   "execution_count": 13,
   "metadata": {},
   "outputs": [
    {
     "ename": "NameError",
     "evalue": "name 'research' is not defined",
     "output_type": "error",
     "traceback": [
      "\u001b[0;31m---------------------------------------------------------------------------\u001b[0m",
      "\u001b[0;31mNameError\u001b[0m                                 Traceback (most recent call last)",
      "\u001b[0;32m<ipython-input-13-1750a39449c9>\u001b[0m in \u001b[0;36m<module>\u001b[0;34m\u001b[0m\n\u001b[1;32m      3\u001b[0m \u001b[0mb\u001b[0m \u001b[0;34m=\u001b[0m \u001b[0mnp\u001b[0m\u001b[0;34m.\u001b[0m\u001b[0mrandom\u001b[0m\u001b[0;34m.\u001b[0m\u001b[0muniform\u001b[0m\u001b[0;34m(\u001b[0m\u001b[0;34m-\u001b[0m\u001b[0;36m1\u001b[0m\u001b[0;34m,\u001b[0m \u001b[0;36m1\u001b[0m\u001b[0;34m,\u001b[0m \u001b[0mn\u001b[0m\u001b[0;34m)\u001b[0m\u001b[0;34m\u001b[0m\u001b[0;34m\u001b[0m\u001b[0m\n\u001b[1;32m      4\u001b[0m \u001b[0mx0\u001b[0m \u001b[0;34m=\u001b[0m \u001b[0mnp\u001b[0m\u001b[0;34m.\u001b[0m\u001b[0mrandom\u001b[0m\u001b[0;34m.\u001b[0m\u001b[0muniform\u001b[0m\u001b[0;34m(\u001b[0m\u001b[0;34m-\u001b[0m\u001b[0;36m1\u001b[0m\u001b[0;34m,\u001b[0m \u001b[0;36m1\u001b[0m\u001b[0;34m,\u001b[0m \u001b[0mn\u001b[0m\u001b[0;34m)\u001b[0m\u001b[0;34m\u001b[0m\u001b[0;34m\u001b[0m\u001b[0m\n\u001b[0;32m----> 5\u001b[0;31m \u001b[0mres\u001b[0m \u001b[0;34m=\u001b[0m \u001b[0mresearch\u001b[0m\u001b[0;34m(\u001b[0m\u001b[0mA\u001b[0m\u001b[0;34m,\u001b[0m \u001b[0mb\u001b[0m\u001b[0;34m,\u001b[0m \u001b[0mx0\u001b[0m\u001b[0;34m)\u001b[0m\u001b[0;34m.\u001b[0m\u001b[0mget_all\u001b[0m\u001b[0;34m(\u001b[0m\u001b[0;34m)\u001b[0m\u001b[0;34m\u001b[0m\u001b[0;34m\u001b[0m\u001b[0m\n\u001b[0m\u001b[1;32m      6\u001b[0m \u001b[0;32mfor\u001b[0m \u001b[0mi\u001b[0m \u001b[0;32min\u001b[0m \u001b[0mres\u001b[0m\u001b[0;34m:\u001b[0m\u001b[0;34m\u001b[0m\u001b[0;34m\u001b[0m\u001b[0m\n\u001b[1;32m      7\u001b[0m     \u001b[0mplt\u001b[0m\u001b[0;34m.\u001b[0m\u001b[0msemilogy\u001b[0m\u001b[0;34m(\u001b[0m\u001b[0mi\u001b[0m\u001b[0;34m[\u001b[0m\u001b[0;36m0\u001b[0m\u001b[0;34m]\u001b[0m\u001b[0;34m,\u001b[0m \u001b[0mlabel\u001b[0m \u001b[0;34m=\u001b[0m \u001b[0mi\u001b[0m\u001b[0;34m[\u001b[0m\u001b[0;36m1\u001b[0m\u001b[0;34m]\u001b[0m\u001b[0;34m)\u001b[0m\u001b[0;34m\u001b[0m\u001b[0;34m\u001b[0m\u001b[0m\n",
      "\u001b[0;31mNameError\u001b[0m: name 'research' is not defined"
     ]
    }
   ],
   "source": [
    "m, n = 10, 10\n",
    "A = np.random.uniform(-1, 1, (m, n))\n",
    "b = np.random.uniform(-1, 1, n)\n",
    "x0 = np.random.uniform(-1, 1, n)\n",
    "res = research(A, b, x0).get_all()\n",
    "for i in res:\n",
    "    plt.semilogy(i[0], label = i[1])\n",
    "\n",
    "plt.legend()"
   ]
  },
  {
   "cell_type": "markdown",
   "metadata": {},
   "source": [
    "### Константный шаг $\\alpha = 0.5$"
   ]
  },
  {
   "cell_type": "code",
   "execution_count": 71,
   "metadata": {},
   "outputs": [
    {
     "data": {
      "text/plain": [
       "<matplotlib.legend.Legend at 0xa6f235cc>"
      ]
     },
     "execution_count": 71,
     "metadata": {},
     "output_type": "execute_result"
    },
    {
     "data": {
      "image/png": "[encoded data removed]",
      "text/plain": [
       "<Figure size 432x288 with 1 Axes>"
      ]
     },
     "metadata": {
      "needs_background": "light"
     },
     "output_type": "display_data"
    }
   ],
   "source": [
    "m, n = 10, 10\n",
    "A = np.random.uniform(-1, 1, (m, n))\n",
    "b = np.random.uniform(-1, 1, n)\n",
    "x0 = np.random.uniform(-1, 1, n)\n",
    "q = research(A, b, x0)\n",
    "q.param = 'big_const'\n",
    "res = q.get_all()\n",
    "for i in res:\n",
    "    plt.semilogy(i[0], label = i[1])\n",
    "\n",
    "plt.legend()"
   ]
  },
  {
   "cell_type": "markdown",
   "metadata": {},
   "source": [
    "### Константный шаг $\\alpha = 0.01$"
   ]
  },
  {
   "cell_type": "code",
   "execution_count": 74,
   "metadata": {},
   "outputs": [
    {
     "data": {
      "text/plain": [
       "<matplotlib.legend.Legend at 0xa6f23b6c>"
      ]
     },
     "execution_count": 74,
     "metadata": {},
     "output_type": "execute_result"
    },
    {
     "data": {
      "image/png": "[encoded data removed]",
      "text/plain": [
       "<Figure size 432x288 with 1 Axes>"
      ]
     },
     "metadata": {
      "needs_background": "light"
     },
     "output_type": "display_data"
    }
   ],
   "source": [
    "m, n = 10, 10\n",
    "A = np.random.uniform(-1, 1, (m, n))\n",
    "b = np.random.uniform(-1, 1, n)\n",
    "x0 = np.random.uniform(-1, 1, n)\n",
    "q = research(A, b, x0)\n",
    "q.param = 'small_const'\n",
    "res = q.get_all()\n",
    "for i in res:\n",
    "    plt.semilogy(i[0], label = i[1])\n",
    "\n",
    "plt.legend()"
   ]
  },
  {
   "cell_type": "markdown",
   "metadata": {},
   "source": [
    "Выбор шага, как поиск локального минимума в направлении, дает приблизительно результат для всех методов кроме метода сопряженных градиентов. Для него поиск локального минимума лучше. Хотя стоит заметить, что метод сопряженных градиентов начинает показывать хорошие результаты, когда шаг очень маленький.\n",
    "\n",
    "Для вычислительной устойчивости была проделана нормировка градиента на корень его нормы и ограничения диапазона поиска шага. Эта нормировка действительно дала возможность проводить вычисления, в чем можно убедиться по тому, что программа успешно выполняется. Стоит заметить, что при уменьшении нормы градиента, возможно, стоит расширить диапазон для шага или убрать эту схему."
   ]
  },
  {
   "cell_type": "code",
   "execution_count": null,
   "metadata": {},
   "outputs": [],
   "source": []
  }
 ],
 "metadata": {
  "anaconda-cloud": {},
  "kernelspec": {
   "display_name": "Python 3",
   "language": "python",
   "name": "python3"
  },
  "language_info": {
   "codemirror_mode": {
    "name": "ipython",
    "version": 3
   },
   "file_extension": ".py",
   "mimetype": "text/x-python",
   "name": "python",
   "nbconvert_exporter": "python",
   "pygments_lexer": "ipython3",
   "version": "3.7.1"
  }
 },
 "nbformat": 4,
 "nbformat_minor": 1
}
