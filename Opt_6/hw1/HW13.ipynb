{
 "cells": [
  {
   "cell_type": "markdown",
   "metadata": {},
   "source": [
    "# Домашнее задание 1-3\n",
    "\n",
    "Это домашнее задание по материалам первых трёх семинаров. Дедлайн по отправке - 02:00 26 февраля. \n",
    "\n",
    "Домашнее задание выполняется в этом же Jupyter Notebook'e и присылается мне в Piazza через Private Post.\n",
    "Файл с Вашим решением должен называться ```Surname_HW#```, где вместо ```Surname``` Вы пишите свою фамилию латиницей, а вместо ```#``` - номер домашнего задания. \n",
    "Решение каждой задачи необходимо поместить после её условия.\n",
    "\n",
    "Пожалуйста, пишите свои решения чётко и понятно. \n",
    "При полном запуске Вашего решения (Kernel -> Restart & Run All) все ячейки должны выполняться без ошибок. "
   ]
  },
  {
   "cell_type": "markdown",
   "metadata": {},
   "source": [
    "## Задача 1\n",
    "\n",
    "Выберите произвольную несимметричную относительно некоторой вертикальной оси унимодальную функцию и приведите не меньше 3-х итераций метода дихотомии и метода золотого сечения (руками, а не с помощью компьютера). Нарисуйте график выбранной функции с помощью библиотеки matplotlib.\n",
    "\n",
    "Убедитесь, что Вы выбрали уникальную функцию, которую не выбрал никто из Ваших одногруппников. Две функции считаются одинаковыми, если одну можно получить из другой параллельным переносом."
   ]
  },
  {
   "cell_type": "markdown",
   "metadata": {},
   "source": [
    "### Унимодальная функия, график\n",
    "\n",
    "Будем работать со следующей унимодальной функцией на отрезке $[0, 1]$:\n",
    "$$f(x) = x^3 - x^2 - 0.1\\sin(\\pi x)$$\n",
    "В унимодальности данной функции легко убедиться, исследовав производную на обозначенном выше отрезке."
   ]
  },
  {
   "cell_type": "code",
   "execution_count": 3,
   "metadata": {},
   "outputs": [
    {
     "data": {
      "text/plain": [
       "[<matplotlib.lines.Line2D at 0xa58a21cc>]"
      ]
     },
     "execution_count": 3,
     "metadata": {},
     "output_type": "execute_result"
    },
    {
     "data": {
      "image/png": "[encoded data removed]",
      "text/plain": [
       "<Figure size 432x288 with 1 Axes>"
      ]
     },
     "metadata": {
      "needs_background": "light"
     },
     "output_type": "display_data"
    }
   ],
   "source": [
    "import numpy as np\n",
    "import matplotlib.pyplot as plt\n",
    "import math\n",
    "%matplotlib inline\n",
    "\n",
    "f = lambda x: x**3 - x**2 - 0.1 * np.sin(math.pi * x)\n",
    "x = np.linspace(0, 1, 100)\n",
    "plt.plot(x, f(x), 'r')"
   ]
  },
  {
   "cell_type": "markdown",
   "metadata": {},
   "source": [
    "### Дихотомия\n",
    "\n",
    "Точки измерения функции $c_2 = \\frac{a+b}{2}, c_1 = \\frac{c_2+b}{2},\\,c_3 = \\frac{c_2+b}{2}$\n",
    "\n",
    "* Нулевая итерация a = 0, b = 1. Проверка условий для следующей итерации: $f(c_1) > f(c_2),\\,f(c_2) < f(c_3)$\n",
    "\n",
    "* Первая итерация a = 0.25, b = 0.75. Проверка условий для следующей итерации: $f(c_1) > f(c_2),\\,f(c_2) < f(c_3)$\n",
    "\n",
    "* Вторая итерация a = 0.375, b = 0.625. Проверка условий для следующей итерации: $f(c_2) > f(c_1)$\n",
    "\n",
    "* Третья итерация a = 0.5, b = 0.625"
   ]
  },
  {
   "cell_type": "markdown",
   "metadata": {},
   "source": [
    "### Метод золотого сечения\n",
    "\n",
    "Точки измерения функции: $c_1 = b - \\frac{b-a}{\\Phi}, c_2 = a + \\frac{b-a}{\\Phi},$ где $\\Phi = \\frac{1 +\\sqrt{5}}{2}$\n",
    "\n",
    "* Нулевая итерация a = 0, b = 1, $f(c_1) > f(c_2)$\n",
    "\n",
    "* Первая итерация a = 0.382, b = 1.000, , $f(c_1) < f(c_2)$\n",
    "\n",
    "* Вторая итерация a = 0.382, b = 0.764, , $f(c_1) > f(c_2)$\n",
    "\n",
    "* Третья итерация a = 0.528, b = 0.764"
   ]
  },
  {
   "cell_type": "markdown",
   "metadata": {},
   "source": [
    "\n",
    "## Задача 2\n",
    "\n",
    "Запустите метод дихотомии для функции $f(x) = -\\sin\\left(\\frac{2 \\pi}{\\frac{5}{17} + x}\\right)$ на интервале $[0,1]$ и $[0,4]$. Точкой минимума считайте середину итогового отрезка. Одинаковые ли точки минимума? Почему?"
   ]
  },
  {
   "cell_type": "markdown",
   "metadata": {},
   "source": [
    "### Решение"
   ]
  },
  {
   "cell_type": "code",
   "execution_count": 2,
   "metadata": {},
   "outputs": [
    {
     "name": "stdout",
     "output_type": "stream",
     "text": [
      "Solution on [0, 1] is 0.800\n",
      "Solution on [0, 4] is 4.000\n",
      "\n"
     ]
    }
   ],
   "source": [
    "import numpy as np\n",
    "import math\n",
    "\n",
    "def dichotomy(a, b, f):\n",
    "    c = (a + b) / 2.0\n",
    "    eps = 1e-4\n",
    "    while abs(b - a) > eps:\n",
    "        y = (a + c) / 2.0\n",
    "        z = (b + c) / 2.0\n",
    "        if f(y) <= f(c):\n",
    "            b = c\n",
    "            c = y\n",
    "        else:\n",
    "            if f(c) <= f(z):\n",
    "                a = y\n",
    "                b = z\n",
    "            else:\n",
    "                a = c\n",
    "                c = z\n",
    "    return (a + b) / 2.0\n",
    "\n",
    "init_f = lambda x: -math.sin(2 * math.pi / (5/17 + x))\n",
    "sol_1 = dichotomy(0, 1, init_f)\n",
    "sol_2 = dichotomy(0, 4, init_f)\n",
    "print('Solution on [0, 1] is %.3f\\nSolution on [0, 4] is %.3f\\n'%(sol_1, sol_2))"
   ]
  },
  {
   "cell_type": "markdown",
   "metadata": {},
   "source": [
    "Решения на двух отрезках не одинаковые. Данная функция не является унимодальной на обоих отрезках, и метод дихотомии на каждом отрезке сходится к своему локальному минимуму. К какому минимуму сходится метод определяется свойствами функции и предугадать это становится сложно в силу ее неунимодальности."
   ]
  },
  {
   "cell_type": "markdown",
   "metadata": {},
   "source": [
    "## Задача 3\n",
    "\n",
    "Покажите, как свести задачу безусловной **целочисленной** оптимизации к задаче нелинейной условной оптимизации с **непрерывными** переменными. \n",
    "Что это говорит о сложности решения происзольной нелинейной задачи оптимизации?"
   ]
  },
  {
   "cell_type": "markdown",
   "metadata": {},
   "source": [
    "### Решение\n",
    "\n",
    "ПУсть у нас есть задача целочисленной оптимизации:\n",
    "\n",
    "$$\\min_{\\mathbf{x} \\in \\mathbb{Z}^n} f(\\mathbf{x})$$\n",
    "\n",
    "Заметим, что условие $x_i \\in \\mathbb{Z},~i = 1, \\ldots, n$ выполнено тогда и только тогда, когда $\\sin(\\pi x_i) = 0,~ i = 1, \\ldots, n$. Таким образом задача целочисленной оптимизации сводится к задаче нелинейной условной оптимизации с непрерывными переменными:\n",
    "\n",
    "$$\\min_{\\mathbf{x} \\in \\mathbb{R}^n} f(\\mathbf{x})$$\n",
    "$$s.t.~ \\sin(\\pi x_i) = 0,~i = 1, \\ldots, n$$\n",
    "\n",
    "Теперь рассмотрим случай, если нас интересуют не всё множество целых чисел, а некоторое его подмножество $x_i \\in A_i \\ \\mathbb{Z}$. В случае если каждое $A_i$ есть такое множество, что существует конечное семейство непересекающихся отрезков или бесконечных полуинтервалов $\\mathcal{D}_i$, для которого выполнены следующие условия:\n",
    "$$A_i \\in \\cup_{B \\in \\mathcal{D}_i}B$$\n",
    "$$\\left(\\left(\\cup_{B \\in \\mathcal{D}_i}B\\right)\\backslash A_i\\right) \\cap \\mathbb{Z} = \\emptyset$$\n",
    "\n",
    "Т.е. в объединении промежутков лежат все целые числа из $A_i$ и других целых чисел там нет. Тогда ограничение $x_i \\in A_i$ можно заменить на условие $\\sin(\\pi x_i) = 0$ и $x_i \\in B, \\forall B\\in D_i$ (это условие задается двумя неравенства для отрезков и одним для бесконечных полуинтервалов). Тогда всего новых ограничений на $x_i$ не больше $(2|\\mathcal{D}_i| + 1)$ и не меньше $(2|\\mathcal{D}_i| - 1)$.\n",
    "\n",
    "В случае если для $A_i$ нет такого семейства, то такие задачи следует рассматривать отдельно.\n",
    "\n",
    "Немного о сложности нелинейных задач. Среди них есть некоторое подмножество задач, которые эквиваленты задачам целочисленной оптимизации. Среди этих задач есть задачи из класса $\\mathcal{NP}-hard$. Для данных задач пока что не найдено эффективных алгоритмов, из чего следует, что на данный момент общая задача нелинейной оптимизации не может быть решена эффективно. А в предположении $\\mathcal{NP} \\neq \\mathcal{P}$, эффективно решить общие задачи нелинейной оптимизации невозможно."
   ]
  },
  {
   "cell_type": "markdown",
   "metadata": {},
   "source": [
    "## Задача 4\n",
    "\n",
    "__1.__ Скачайте с помощью кода, приведённого ниже, набор фотографий и нарисуйте какую-нибудь из них."
   ]
  },
  {
   "cell_type": "code",
   "execution_count": 1,
   "metadata": {},
   "outputs": [],
   "source": [
    "import sklearn.datasets as skldata\n",
    "import matplotlib.pyplot as plt\n",
    "import sklearn.decomposition as skdec\n",
    "%matplotlib inline\n",
    "data = skldata.fetch_olivetti_faces()\n",
    "import numpy as np"
   ]
  },
  {
   "cell_type": "code",
   "execution_count": 6,
   "metadata": {},
   "outputs": [
    {
     "name": "stdout",
     "output_type": "stream",
     "text": [
      "Shape of data = (400, 64, 64)\n"
     ]
    },
    {
     "data": {
      "image/png": "[encoded data removed]",
      "text/plain": [
       "<Figure size 432x288 with 2 Axes>"
      ]
     },
     "metadata": {
      "needs_background": "light"
     },
     "output_type": "display_data"
    }
   ],
   "source": [
    "print(\"Shape of data = {}\".format(data[\"images\"].shape))\n",
    "index = 56\n",
    "plt.imshow(data[\"images\"][index], cmap=plt.cm.Greys)\n",
    "plt.colorbar()\n",
    "_ = plt.axis(\"off\")"
   ]
  },
  {
   "cell_type": "markdown",
   "metadata": {},
   "source": [
    "__2.__ Одним из способов обработки изображений, например для выделения наиболее важных сегментов используется метод неотрицательной матричной факторизации ([Nonnegative matrix factorization](https://arxiv.org/pdf/1401.5226.pdf)). \n",
    "Идея в том, чтобы решить следующую задачу\n",
    "\n",
    "\\begin{align*}\n",
    "& \\min_{W, H} \\frac12 \\|X - WH\\|^2_F \\\\\n",
    "\\text{s.t. } & W \\geq 0\\\\\n",
    "& H \\geq 0,\n",
    "\\end{align*}\n",
    "\n",
    "где знак $\\geq$ означает покомпонентное сравнение. \n",
    "Также матрицы $W$ и $H$ малого ранга, то есть $W \\in \\mathbb{R}^{m \\times k}$ и $H \\in \\mathbb{R}^{k \\times n}$, где $k$ - параметр, который необходимо настраивать.\n",
    "Чем больше $k$, тем точнее приближение, но и тем дольше будет решаться задача.\n",
    "Матрица $X \\in \\mathbb{R}^{m \\times n}$, где $m$ - это число фото в нашем наборе, а $n$ - это количество пикселей в каждой картинке, то есть каждая строка матрицы $X$ - это векторизованная картинка.\n",
    "\n",
    "**Вопросы**\n",
    "\n",
    "1) является ли эта задача выпуклой и почему?\n",
    "\n",
    "2) как можно интерпретировать факторы $W$ и $H$ и почему важна их покомпонентная неотрицательность?"
   ]
  },
  {
   "cell_type": "markdown",
   "metadata": {},
   "source": [
    "#### Решение\n",
    "\n",
    "1) Данная задача не является выпуклой. Рассмотрим матрицы с произвольной матрицей $X$ и матрицами $W = \\{w_{ij}\\}_{i,j}$ и $H = \\{h_{ij}\\}_{i,j}$, такими что только $w_{11}$ и $h_{11}$ отличны от нуля. Тогда целевая функция примет вид:\n",
    "\n",
    "$$f(w_{11}, h_{11}) = \\left(x_{11} - w_{11}h_{11}\\right)^2 + C$$\n",
    "\n",
    "Посчитаем гессиан этой функции:\n",
    "\n",
    "$$Hf = \\begin{pmatrix}2h_{11}^2 & 4w_{11}h_{11} - 2x_{11} \\\\ 4w_{11}h_{11} - 2x_{11} & 2w_{11}^2\\end{pmatrix}$$\n",
    "\n",
    "Детерминант этой матрицы:\n",
    "\n",
    "$$\\Delta = -12(w_{11}h_{11})^2 + 4x_{11}^2 + 16w_{11}h_{11}x_{11}$$\n",
    "\n",
    "Легко видеть, что при большом $w_{11}h_{11}$ детерминант отрицателен, а, следовательно, по критерию Сильвестра гессина не положительно определен и исходная задача не выпукла.\n",
    "\n",
    "2) В приложении обработки картинок: $W$ - набор приближений исходных картинок из набора, $H$ - матрица, которая восстанавливает по приближению исходную картинку (скорей всего с некоторой ошибкой). В более общем случае, $W$ - есть матрица базисных векторов в подпространстве $\\mathbb{R}^n$ размерности $k$, а матрица $H$ есть разложение матрицы $X$ по базису.\n",
    "\n",
    "Пиксель характеризуется обычно неотрицательным числом, а каждый элемент $W$ есть пиксель, поэтому разумно предложить поэлементную неотрицательность матрицы $W$.\n",
    "\n",
    "Неотрицательность матрицы $H$ имеет смысл для того, что при обратном преобразовании $WH$ также получалась матрица с неотрицательными весами, и тогда результат может интерпретироваться как исходный набор. Это может быть удобно, когда нужно высчитать некоторое преобразование исходного множества, и высчитывается преобразование приближения $W$, а далее при помощи  $H$ строится ответ для исходного сета. Неотрицательность $H$ дает возможность легко интерпретировать ответ, как набор картинок."
   ]
  },
  {
   "cell_type": "markdown",
   "metadata": {},
   "source": [
    "__3.__ Такую задачу можно решать с помощью CVXPy, если воспользоваться идеей попеременной оптимизации (alternating optimization). Идея состоит в том, чтобы на чётных итерациях решить точно задачу относительно параметра $W$ при фиксированном параметре $H$, а на нечётных наоборот: использовать решение для $W$ с предыдущей итерации в качестве фиксированного параметра и найти решение задачи относительной $H$ и так далее до сходимости.\n",
    "Сначала Вам нужно инициализировать матрицы $W$ и $H$ какими-нибудь матрицами с неотрицательными элементами. От инициализации будет сильно зависеть качество решения и скорость работы методов.\n",
    "\n",
    "**Задачи**\n",
    "\n",
    "1) реализуйте с помощью CVXPy идею поперменной оптимизации для этой задачи и решите её\n",
    "\n",
    "2) нарисуйте график сходимости по функции и убедитесь, что метод сошёлся или же изменение целевой функции пренебрежимо мало\n",
    "\n",
    "3) поскольку размерность $H$ - $k \\times n$, то каждую строку $H$ можно преобразовать в картинку аналгично тому, как были собраны строки матрицы $X$. Нарисуйте 10-50 картинок полученных из строк матрицы $H$. Что Вы заметили и как это соотносится с ответами на вопрос 2) предыдущего пункта? Используйте ```plt.colorbar()``` и цветовую схему ```plt.cm.Greys``` для более чёткого отображения значений пикселей\n",
    "\n",
    "4) Нарисуйте матрицу $W$ с помощью функции ```plt.imshow``` или ```plt.spy```. Насколько сильно она заполнена и почему?"
   ]
  },
  {
   "cell_type": "code",
   "execution_count": 1,
   "metadata": {},
   "outputs": [
    {
     "ename": "ModuleNotFoundError",
     "evalue": "No module named 'cvxpy'",
     "output_type": "error",
     "traceback": [
      "\u001b[0;31m---------------------------------------------------------------------------\u001b[0m",
      "\u001b[0;31mModuleNotFoundError\u001b[0m                       Traceback (most recent call last)",
      "\u001b[0;32m<ipython-input-1-ad5515c1f6b0>\u001b[0m in \u001b[0;36m<module>\u001b[0;34m\u001b[0m\n\u001b[1;32m      1\u001b[0m \u001b[0;32mimport\u001b[0m \u001b[0mnumpy\u001b[0m \u001b[0;32mas\u001b[0m \u001b[0mnp\u001b[0m\u001b[0;34m\u001b[0m\u001b[0;34m\u001b[0m\u001b[0m\n\u001b[0;32m----> 2\u001b[0;31m \u001b[0;32mimport\u001b[0m \u001b[0mcvxpy\u001b[0m \u001b[0;32mas\u001b[0m \u001b[0mcvx\u001b[0m\u001b[0;34m\u001b[0m\u001b[0;34m\u001b[0m\u001b[0m\n\u001b[0m\u001b[1;32m      3\u001b[0m \u001b[0;32mimport\u001b[0m \u001b[0msklearn\u001b[0m\u001b[0;34m.\u001b[0m\u001b[0mdatasets\u001b[0m \u001b[0;32mas\u001b[0m \u001b[0mskldata\u001b[0m\u001b[0;34m\u001b[0m\u001b[0;34m\u001b[0m\u001b[0m\n\u001b[1;32m      4\u001b[0m \u001b[0;32mimport\u001b[0m \u001b[0mmatplotlib\u001b[0m\u001b[0;34m.\u001b[0m\u001b[0mpyplot\u001b[0m \u001b[0;32mas\u001b[0m \u001b[0mplt\u001b[0m\u001b[0;34m\u001b[0m\u001b[0;34m\u001b[0m\u001b[0m\n\u001b[1;32m      5\u001b[0m \u001b[0;32mimport\u001b[0m \u001b[0msklearn\u001b[0m\u001b[0;34m.\u001b[0m\u001b[0mdecomposition\u001b[0m \u001b[0;32mas\u001b[0m \u001b[0mskdec\u001b[0m\u001b[0;34m\u001b[0m\u001b[0;34m\u001b[0m\u001b[0m\n",
      "\u001b[0;31mModuleNotFoundError\u001b[0m: No module named 'cvxpy'"
     ]
    }
   ],
   "source": [
    "import numpy as np\n",
    "import cvxpy as cvx\n",
    "import sklearn.datasets as skldata\n",
    "import matplotlib.pyplot as plt\n",
    "import sklearn.decomposition as skdec\n",
    "%matplotlib inline\n",
    "data = skldata.fetch_olivetti_faces()\n",
    "\n",
    "def update(X, W, H):\n",
    "    eps = 1e-8\n",
    "    U = cvx.Variable(shape = W.shape)\n",
    "    obj = cvx.Minimize(cvx.norm(X - U * H, \"fro\"))\n",
    "    constraint = [U >= 0]\n",
    "    prob = cvx.Problem(obj, constraint)\n",
    "    prob.solve(verbose = True, solver=cvx.SCS, max_iters=100)\n",
    "    return U.value\n",
    "\n",
    "def alt_opt(X, eps, k):\n",
    "    N = 10\n",
    "    W = np.random.uniform(0, 1, (X.shape[0], k))\n",
    "    H = np.random.uniform(0, 1, (k, X.shape[1]))\n",
    "    diff = []\n",
    "    val_prev, val = 1, np.linalg.norm(X - np.dot(W, H), 'fro')**2\n",
    "    while abs(val - val_prev) > eps and len(diff) <= N:\n",
    "        val_prev = val\n",
    "        W = update(X, W, H)\n",
    "        H = update(X.transpose(), H.transpose(), W.transpose()).transpose()\n",
    "        val = np.linalg.norm(X - np.dot(W, H), 'fro')**2\n",
    "        diff.append(abs(val - val_prev))\n",
    "    return (W, H, diff)\n",
    "\n",
    "X = data[\"images\"].reshape(data[\"images\"].shape[0], -1)\n",
    "W, H, diff = alt_opt(X, 1e-3, 1000)"
   ]
  },
  {
   "cell_type": "code",
   "execution_count": null,
   "metadata": {},
   "outputs": [],
   "source": [
    "import matplotlib.pyplot as plt\n",
    "%matplotlib inline\n",
    "\n",
    "plt.plot([i for i in range(1, len(diff) + 1)], diff, 'r')"
   ]
  },
  {
   "cell_type": "code",
   "execution_count": null,
   "metadata": {},
   "outputs": [],
   "source": [
    "import cvxpy as cp\n",
    "import numpy as np\n",
    "\n",
    "A = data[\"images\"].reshape(data[\"images\"].shape[0], -1)[:100,:100]\n",
    "m, n = A.shape\n",
    "k = 10\n",
    "# Initialize Y randomly.\n",
    "Y_init = np.random.rand(m, k)\n",
    "\n",
    "# Ensure same initial random Y, rather than generate new one\n",
    "# when executing this cell.\n",
    "Y = Y_init \n",
    "\n",
    "# Perform alternating minimization.\n",
    "MAX_ITERS = 30\n",
    "residual = np.zeros(MAX_ITERS)\n",
    "for iter_num in range(1, 1+MAX_ITERS):\n",
    "    # At the beginning of an iteration, X and Y are NumPy\n",
    "    # array types, NOT CVXPY variables.\n",
    "\n",
    "    # For odd iterations, treat Y constant, optimize over X.\n",
    "    if iter_num % 2 == 1:\n",
    "        X = cp.Variable(shape=(k, n))\n",
    "        constraint = [X >= 0]\n",
    "    # For even iterations, treat X constant, optimize over Y.\n",
    "    else:\n",
    "        Y = cp.Variable(shape=(m, k))\n",
    "        constraint = [Y >= 0]\n",
    "    \n",
    "    # Solve the problem.\n",
    "    # increase max iters otherwise, a few iterations are \"OPTIMAL_INACCURATE\"\n",
    "    # (eg a few of the entries in X or Y are negative beyond standard tolerances)\n",
    "    obj = cp.Minimize(cp.norm(A - Y*X, 'fro'))\n",
    "    prob = cp.Problem(obj, constraint)\n",
    "    prob.solve(solver=cp.SCS, max_iters=10000)\n",
    "\n",
    "    if prob.status != cp.OPTIMAL:\n",
    "        print(\"Solver did not converge!\")\n",
    "    \n",
    "    print('Iteration {}, residual norm {}'.format(iter_num, prob.value))\n",
    "    residual[iter_num-1] = prob.value\n",
    "\n",
    "    # Convert variable to NumPy array constant for next iteration.\n",
    "    if iter_num % 2 == 1:\n",
    "        X = X.value\n",
    "    else:\n",
    "        Y = Y.value"
   ]
  },
  {
   "cell_type": "code",
   "execution_count": null,
   "metadata": {},
   "outputs": [],
   "source": []
  }
 ],
 "metadata": {
  "kernelspec": {
   "display_name": "Python 3",
   "language": "python",
   "name": "python3"
  },
  "language_info": {
   "codemirror_mode": {
    "name": "ipython",
    "version": 3
   },
   "file_extension": ".py",
   "mimetype": "text/x-python",
   "name": "python",
   "nbconvert_exporter": "python",
   "pygments_lexer": "ipython3",
   "version": "3.7.1"
  }
 },
 "nbformat": 4,
 "nbformat_minor": 2
}
